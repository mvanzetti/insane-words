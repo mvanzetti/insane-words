{
 "cells": [
  {
   "cell_type": "code",
   "execution_count": 1,
   "metadata": {},
   "outputs": [
    {
     "name": "stderr",
     "output_type": "stream",
     "text": [
      "Using TensorFlow backend.\n"
     ]
    }
   ],
   "source": [
    "from __future__ import print_function\n",
    "\n",
    "from keras.models import Sequential\n",
    "from keras.layers.core import Dense, Activation, Dropout\n",
    "from keras.layers.recurrent import LSTM\n",
    "from keras.utils.data_utils import get_file\n",
    "\n",
    "import numpy as np\n",
    "import random\n",
    "import sys\n",
    "import os"
   ]
  },
  {
   "cell_type": "code",
   "execution_count": 2,
   "metadata": {},
   "outputs": [
    {
     "name": "stdout",
     "output_type": "stream",
     "text": [
      "corpus length: 18012\n",
      "chars: <class 'set'>\n",
      "words <class 'set'>\n",
      "total number of unique words 1284\n",
      "total number of unique chars 47\n",
      "word_indices <class 'dict'> length: 1284\n",
      "indices_words <class 'dict'> length 1284\n",
      "maxlen: 30 step: 3\n",
      "nb sequences(length of sentences): 1018\n",
      "length of next_word 1018\n"
     ]
    }
   ],
   "source": [
    "path = \"datasets/i_malavoglia_short.txt\"\n",
    "\n",
    "try: \n",
    "    text = open(path).read().lower()\n",
    "except UnicodeDecodeError:\n",
    "    import codecs\n",
    "    text = codecs.open(path, encoding='utf-8').read().lower()\n",
    "\n",
    "print('corpus length:', len(text))\n",
    "\n",
    "chars = set(text)\n",
    "words = set(open('datasets/i_malavoglia_short.txt').read().lower().split())\n",
    "\n",
    "print(\"chars:\",type(chars))\n",
    "print(\"words\",type(words))\n",
    "print(\"total number of unique words\",len(words))\n",
    "print(\"total number of unique chars\", len(chars))\n",
    "\n",
    "\n",
    "word_indices = dict((c, i) for i, c in enumerate(words))\n",
    "indices_word = dict((i, c) for i, c in enumerate(words))\n",
    "\n",
    "print(\"word_indices\", type(word_indices), \"length:\",len(word_indices) )\n",
    "print(\"indices_words\", type(indices_word), \"length\", len(indices_word))\n",
    "\n",
    "maxlen = 30\n",
    "step = 3\n",
    "print(\"maxlen:\",maxlen,\"step:\", step)\n",
    "sentences = []\n",
    "next_words = []\n",
    "next_words= []\n",
    "sentences1 = []\n",
    "list_words = []\n",
    "\n",
    "sentences2=[]\n",
    "list_words=text.lower().split()\n",
    "\n",
    "for i in range(0,len(list_words)-maxlen, step):\n",
    "    sentences2 = ' '.join(list_words[i: i + maxlen])\n",
    "    sentences.append(sentences2)\n",
    "    next_words.append((list_words[i + maxlen]))\n",
    "print('nb sequences(length of sentences):', len(sentences))\n",
    "print(\"length of next_word\",len(next_words))\n"
   ]
  },
  {
   "cell_type": "code",
   "execution_count": 5,
   "metadata": {},
   "outputs": [
    {
     "name": "stdout",
     "output_type": "stream",
     "text": [
      "Vectorization...\n"
     ]
    }
   ],
   "source": [
    "print('Vectorization...')\n",
    "X = np.zeros((len(sentences), maxlen, len(words)), dtype=np.bool)\n",
    "y = np.zeros((len(sentences), len(words)), dtype=np.bool)\n",
    "for i, sentence in enumerate(sentences):\n",
    "    for t, word in enumerate(sentence.split()):\n",
    "        #print(i,t,word)\n",
    "        X[i, t, word_indices[word]] = 1\n",
    "    y[i, word_indices[next_words[i]]] = 1"
   ]
  },
  {
   "cell_type": "code",
   "execution_count": 6,
   "metadata": {},
   "outputs": [],
   "source": [
    "#build the model: 2 stacked LSTM\n",
    "print('Build model...')\n",
    "model = Sequential()\n",
    "model.add(LSTM(512, return_sequences=True, input_shape=(maxlen, len(words))))\n",
    "model.add(Dropout(0.2))\n",
    "model.add(LSTM(512, return_sequences=False))\n",
    "model.add(Dropout(0.2))\n",
    "model.add(Dense(len(words)))\n",
    "#model.add(Dense(1000))\n",
    "model.add(Activation('softmax'))\n",
    "\n",
    "model.compile(loss='categorical_crossentropy', optimizer='rmsprop')"
   ]
  },
  {
   "cell_type": "code",
   "execution_count": null,
   "metadata": {},
   "outputs": [],
   "source": [
    "if os.path.isfile('GoTweights.hdf5'):\n",
    "    model.load_weights('GoTweights.hdf5')"
   ]
  },
  {
   "cell_type": "code",
   "execution_count": 8,
   "metadata": {},
   "outputs": [
    {
     "name": "stdout",
     "output_type": "stream",
     "text": [
      "\n",
      "--------------------------------------------------\n",
      "Iteration 1\n",
      "Epoch 1/2\n"
     ]
    },
    {
     "name": "stderr",
     "output_type": "stream",
     "text": [
      "/Users/manuel/miniconda3/envs/wordgen-explore/lib/python3.6/site-packages/keras/models.py:942: UserWarning: The `nb_epoch` argument in `fit` has been renamed `epochs`.\n",
      "  warnings.warn('The `nb_epoch` argument in `fit` '\n"
     ]
    },
    {
     "name": "stdout",
     "output_type": "stream",
     "text": [
      "1018/1018 [==============================] - 13s 12ms/step - loss: 5.9405\n",
      "Epoch 2/2\n",
      "1018/1018 [==============================] - 14s 14ms/step - loss: 5.8774\n",
      "\n",
      "--------------------------------------------------\n",
      "Iteration 2\n",
      "Epoch 1/2\n",
      "1018/1018 [==============================] - 14s 14ms/step - loss: 5.8438\n",
      "Epoch 2/2\n",
      "1018/1018 [==============================] - 14s 14ms/step - loss: 5.8364\n",
      "\n",
      "--------------------------------------------------\n",
      "Iteration 3\n",
      "Epoch 1/2\n",
      "1018/1018 [==============================] - 14s 14ms/step - loss: 5.8176\n",
      "Epoch 2/2\n",
      "1018/1018 [==============================] - 14s 14ms/step - loss: 5.7926\n",
      "\n",
      "--------------------------------------------------\n",
      "Iteration 4\n",
      "Epoch 1/2\n",
      "1018/1018 [==============================] - 14s 14ms/step - loss: 5.7824\n",
      "Epoch 2/2\n",
      "1018/1018 [==============================] - 14s 13ms/step - loss: 5.7574\n",
      "\n",
      "--------------------------------------------------\n",
      "Iteration 5\n",
      "Epoch 1/2\n",
      "1018/1018 [==============================] - 14s 13ms/step - loss: 5.7402\n",
      "Epoch 2/2\n",
      "1018/1018 [==============================] - 14s 13ms/step - loss: 5.7151\n",
      "\n",
      "--------------------------------------------------\n",
      "Iteration 6\n",
      "Epoch 1/2\n",
      "1018/1018 [==============================] - 14s 13ms/step - loss: 5.8121\n",
      "Epoch 2/2\n",
      "1018/1018 [==============================] - 14s 14ms/step - loss: 5.9190\n",
      "\n",
      "--------------------------------------------------\n",
      "Iteration 7\n",
      "Epoch 1/2\n",
      "1018/1018 [==============================] - 14s 14ms/step - loss: 5.7051\n",
      "Epoch 2/2\n",
      "1018/1018 [==============================] - 14s 14ms/step - loss: 5.6153\n",
      "\n",
      "--------------------------------------------------\n",
      "Iteration 8\n",
      "Epoch 1/2\n",
      "1018/1018 [==============================] - 14s 14ms/step - loss: 5.5725\n",
      "Epoch 2/2\n",
      "1018/1018 [==============================] - 14s 14ms/step - loss: 5.6397\n",
      "\n",
      "--------------------------------------------------\n",
      "Iteration 9\n",
      "Epoch 1/2\n",
      "1018/1018 [==============================] - 14s 14ms/step - loss: 5.5477\n",
      "Epoch 2/2\n",
      "1018/1018 [==============================] - 14s 14ms/step - loss: 5.4875\n",
      "\n",
      "--------------------------------------------------\n",
      "Iteration 10\n",
      "Epoch 1/2\n",
      "1018/1018 [==============================] - 14s 14ms/step - loss: 5.4382\n",
      "Epoch 2/2\n",
      "1018/1018 [==============================] - 15s 15ms/step - loss: 5.3951\n",
      "\n",
      "--------------------------------------------------\n",
      "Iteration 11\n",
      "Epoch 1/2\n",
      "1018/1018 [==============================] - 15s 14ms/step - loss: 5.3751\n",
      "Epoch 2/2\n",
      "1018/1018 [==============================] - 15s 14ms/step - loss: 5.2918\n",
      "\n",
      "--------------------------------------------------\n",
      "Iteration 12\n",
      "Epoch 1/2\n",
      " 384/1018 [==========>...................] - ETA: 9s - loss: 5.1167 "
     ]
    },
    {
     "ename": "KeyboardInterrupt",
     "evalue": "",
     "output_type": "error",
     "traceback": [
      "\u001b[0;31m---------------------------------------------------------------------------\u001b[0m",
      "\u001b[0;31mKeyboardInterrupt\u001b[0m                         Traceback (most recent call last)",
      "\u001b[0;32m<ipython-input-8-a768aca12ce1>\u001b[0m in \u001b[0;36m<module>\u001b[0;34m()\u001b[0m\n\u001b[1;32m      4\u001b[0m     \u001b[0mprint\u001b[0m\u001b[0;34m(\u001b[0m\u001b[0;34m'-'\u001b[0m \u001b[0;34m*\u001b[0m \u001b[0;36m50\u001b[0m\u001b[0;34m)\u001b[0m\u001b[0;34m\u001b[0m\u001b[0m\n\u001b[1;32m      5\u001b[0m     \u001b[0mprint\u001b[0m\u001b[0;34m(\u001b[0m\u001b[0;34m'Iteration'\u001b[0m\u001b[0;34m,\u001b[0m \u001b[0miteration\u001b[0m\u001b[0;34m)\u001b[0m\u001b[0;34m\u001b[0m\u001b[0m\n\u001b[0;32m----> 6\u001b[0;31m     \u001b[0mmodel\u001b[0m\u001b[0;34m.\u001b[0m\u001b[0mfit\u001b[0m\u001b[0;34m(\u001b[0m\u001b[0mX\u001b[0m\u001b[0;34m,\u001b[0m \u001b[0my\u001b[0m\u001b[0;34m,\u001b[0m \u001b[0mbatch_size\u001b[0m\u001b[0;34m=\u001b[0m\u001b[0;36m128\u001b[0m\u001b[0;34m,\u001b[0m \u001b[0mnb_epoch\u001b[0m\u001b[0;34m=\u001b[0m\u001b[0;36m2\u001b[0m\u001b[0;34m)\u001b[0m\u001b[0;34m\u001b[0m\u001b[0m\n\u001b[0m\u001b[1;32m      7\u001b[0m     \u001b[0mmodel\u001b[0m\u001b[0;34m.\u001b[0m\u001b[0msave_weights\u001b[0m\u001b[0;34m(\u001b[0m\u001b[0;34m'GoTweights.hdf5'\u001b[0m\u001b[0;34m,\u001b[0m \u001b[0moverwrite\u001b[0m\u001b[0;34m=\u001b[0m\u001b[0;32mTrue\u001b[0m\u001b[0;34m)\u001b[0m\u001b[0;34m\u001b[0m\u001b[0m\n",
      "\u001b[0;32m~/miniconda3/envs/wordgen-explore/lib/python3.6/site-packages/keras/models.py\u001b[0m in \u001b[0;36mfit\u001b[0;34m(self, x, y, batch_size, epochs, verbose, callbacks, validation_split, validation_data, shuffle, class_weight, sample_weight, initial_epoch, steps_per_epoch, validation_steps, **kwargs)\u001b[0m\n\u001b[1;32m    961\u001b[0m                               \u001b[0minitial_epoch\u001b[0m\u001b[0;34m=\u001b[0m\u001b[0minitial_epoch\u001b[0m\u001b[0;34m,\u001b[0m\u001b[0;34m\u001b[0m\u001b[0m\n\u001b[1;32m    962\u001b[0m                               \u001b[0msteps_per_epoch\u001b[0m\u001b[0;34m=\u001b[0m\u001b[0msteps_per_epoch\u001b[0m\u001b[0;34m,\u001b[0m\u001b[0;34m\u001b[0m\u001b[0m\n\u001b[0;32m--> 963\u001b[0;31m                               validation_steps=validation_steps)\n\u001b[0m\u001b[1;32m    964\u001b[0m \u001b[0;34m\u001b[0m\u001b[0m\n\u001b[1;32m    965\u001b[0m     def evaluate(self, x=None, y=None,\n",
      "\u001b[0;32m~/miniconda3/envs/wordgen-explore/lib/python3.6/site-packages/keras/engine/training.py\u001b[0m in \u001b[0;36mfit\u001b[0;34m(self, x, y, batch_size, epochs, verbose, callbacks, validation_split, validation_data, shuffle, class_weight, sample_weight, initial_epoch, steps_per_epoch, validation_steps, **kwargs)\u001b[0m\n\u001b[1;32m   1710\u001b[0m                               \u001b[0minitial_epoch\u001b[0m\u001b[0;34m=\u001b[0m\u001b[0minitial_epoch\u001b[0m\u001b[0;34m,\u001b[0m\u001b[0;34m\u001b[0m\u001b[0m\n\u001b[1;32m   1711\u001b[0m                               \u001b[0msteps_per_epoch\u001b[0m\u001b[0;34m=\u001b[0m\u001b[0msteps_per_epoch\u001b[0m\u001b[0;34m,\u001b[0m\u001b[0;34m\u001b[0m\u001b[0m\n\u001b[0;32m-> 1712\u001b[0;31m                               validation_steps=validation_steps)\n\u001b[0m\u001b[1;32m   1713\u001b[0m \u001b[0;34m\u001b[0m\u001b[0m\n\u001b[1;32m   1714\u001b[0m     def evaluate(self, x=None, y=None,\n",
      "\u001b[0;32m~/miniconda3/envs/wordgen-explore/lib/python3.6/site-packages/keras/engine/training.py\u001b[0m in \u001b[0;36m_fit_loop\u001b[0;34m(self, f, ins, out_labels, batch_size, epochs, verbose, callbacks, val_f, val_ins, shuffle, callback_metrics, initial_epoch, steps_per_epoch, validation_steps)\u001b[0m\n\u001b[1;32m   1233\u001b[0m                         \u001b[0mins_batch\u001b[0m\u001b[0;34m[\u001b[0m\u001b[0mi\u001b[0m\u001b[0;34m]\u001b[0m \u001b[0;34m=\u001b[0m \u001b[0mins_batch\u001b[0m\u001b[0;34m[\u001b[0m\u001b[0mi\u001b[0m\u001b[0;34m]\u001b[0m\u001b[0;34m.\u001b[0m\u001b[0mtoarray\u001b[0m\u001b[0;34m(\u001b[0m\u001b[0;34m)\u001b[0m\u001b[0;34m\u001b[0m\u001b[0m\n\u001b[1;32m   1234\u001b[0m \u001b[0;34m\u001b[0m\u001b[0m\n\u001b[0;32m-> 1235\u001b[0;31m                     \u001b[0mouts\u001b[0m \u001b[0;34m=\u001b[0m \u001b[0mf\u001b[0m\u001b[0;34m(\u001b[0m\u001b[0mins_batch\u001b[0m\u001b[0;34m)\u001b[0m\u001b[0;34m\u001b[0m\u001b[0m\n\u001b[0m\u001b[1;32m   1236\u001b[0m                     \u001b[0;32mif\u001b[0m \u001b[0;32mnot\u001b[0m \u001b[0misinstance\u001b[0m\u001b[0;34m(\u001b[0m\u001b[0mouts\u001b[0m\u001b[0;34m,\u001b[0m \u001b[0mlist\u001b[0m\u001b[0;34m)\u001b[0m\u001b[0;34m:\u001b[0m\u001b[0;34m\u001b[0m\u001b[0m\n\u001b[1;32m   1237\u001b[0m                         \u001b[0mouts\u001b[0m \u001b[0;34m=\u001b[0m \u001b[0;34m[\u001b[0m\u001b[0mouts\u001b[0m\u001b[0;34m]\u001b[0m\u001b[0;34m\u001b[0m\u001b[0m\n",
      "\u001b[0;32m~/miniconda3/envs/wordgen-explore/lib/python3.6/site-packages/keras/backend/tensorflow_backend.py\u001b[0m in \u001b[0;36m__call__\u001b[0;34m(self, inputs)\u001b[0m\n\u001b[1;32m   2473\u001b[0m         \u001b[0msession\u001b[0m \u001b[0;34m=\u001b[0m \u001b[0mget_session\u001b[0m\u001b[0;34m(\u001b[0m\u001b[0;34m)\u001b[0m\u001b[0;34m\u001b[0m\u001b[0m\n\u001b[1;32m   2474\u001b[0m         updated = session.run(fetches=fetches, feed_dict=feed_dict,\n\u001b[0;32m-> 2475\u001b[0;31m                               **self.session_kwargs)\n\u001b[0m\u001b[1;32m   2476\u001b[0m         \u001b[0;32mreturn\u001b[0m \u001b[0mupdated\u001b[0m\u001b[0;34m[\u001b[0m\u001b[0;34m:\u001b[0m\u001b[0mlen\u001b[0m\u001b[0;34m(\u001b[0m\u001b[0mself\u001b[0m\u001b[0;34m.\u001b[0m\u001b[0moutputs\u001b[0m\u001b[0;34m)\u001b[0m\u001b[0;34m]\u001b[0m\u001b[0;34m\u001b[0m\u001b[0m\n\u001b[1;32m   2477\u001b[0m \u001b[0;34m\u001b[0m\u001b[0m\n",
      "\u001b[0;32m~/miniconda3/envs/wordgen-explore/lib/python3.6/site-packages/tensorflow/python/client/session.py\u001b[0m in \u001b[0;36mrun\u001b[0;34m(self, fetches, feed_dict, options, run_metadata)\u001b[0m\n\u001b[1;32m    776\u001b[0m     \u001b[0;32mtry\u001b[0m\u001b[0;34m:\u001b[0m\u001b[0;34m\u001b[0m\u001b[0m\n\u001b[1;32m    777\u001b[0m       result = self._run(None, fetches, feed_dict, options_ptr,\n\u001b[0;32m--> 778\u001b[0;31m                          run_metadata_ptr)\n\u001b[0m\u001b[1;32m    779\u001b[0m       \u001b[0;32mif\u001b[0m \u001b[0mrun_metadata\u001b[0m\u001b[0;34m:\u001b[0m\u001b[0;34m\u001b[0m\u001b[0m\n\u001b[1;32m    780\u001b[0m         \u001b[0mproto_data\u001b[0m \u001b[0;34m=\u001b[0m \u001b[0mtf_session\u001b[0m\u001b[0;34m.\u001b[0m\u001b[0mTF_GetBuffer\u001b[0m\u001b[0;34m(\u001b[0m\u001b[0mrun_metadata_ptr\u001b[0m\u001b[0;34m)\u001b[0m\u001b[0;34m\u001b[0m\u001b[0m\n",
      "\u001b[0;32m~/miniconda3/envs/wordgen-explore/lib/python3.6/site-packages/tensorflow/python/client/session.py\u001b[0m in \u001b[0;36m_run\u001b[0;34m(self, handle, fetches, feed_dict, options, run_metadata)\u001b[0m\n\u001b[1;32m    980\u001b[0m     \u001b[0;32mif\u001b[0m \u001b[0mfinal_fetches\u001b[0m \u001b[0;32mor\u001b[0m \u001b[0mfinal_targets\u001b[0m\u001b[0;34m:\u001b[0m\u001b[0;34m\u001b[0m\u001b[0m\n\u001b[1;32m    981\u001b[0m       results = self._do_run(handle, final_targets, final_fetches,\n\u001b[0;32m--> 982\u001b[0;31m                              feed_dict_string, options, run_metadata)\n\u001b[0m\u001b[1;32m    983\u001b[0m     \u001b[0;32melse\u001b[0m\u001b[0;34m:\u001b[0m\u001b[0;34m\u001b[0m\u001b[0m\n\u001b[1;32m    984\u001b[0m       \u001b[0mresults\u001b[0m \u001b[0;34m=\u001b[0m \u001b[0;34m[\u001b[0m\u001b[0;34m]\u001b[0m\u001b[0;34m\u001b[0m\u001b[0m\n",
      "\u001b[0;32m~/miniconda3/envs/wordgen-explore/lib/python3.6/site-packages/tensorflow/python/client/session.py\u001b[0m in \u001b[0;36m_do_run\u001b[0;34m(self, handle, target_list, fetch_list, feed_dict, options, run_metadata)\u001b[0m\n\u001b[1;32m   1030\u001b[0m     \u001b[0;32mif\u001b[0m \u001b[0mhandle\u001b[0m \u001b[0;32mis\u001b[0m \u001b[0;32mNone\u001b[0m\u001b[0;34m:\u001b[0m\u001b[0;34m\u001b[0m\u001b[0m\n\u001b[1;32m   1031\u001b[0m       return self._do_call(_run_fn, self._session, feed_dict, fetch_list,\n\u001b[0;32m-> 1032\u001b[0;31m                            target_list, options, run_metadata)\n\u001b[0m\u001b[1;32m   1033\u001b[0m     \u001b[0;32melse\u001b[0m\u001b[0;34m:\u001b[0m\u001b[0;34m\u001b[0m\u001b[0m\n\u001b[1;32m   1034\u001b[0m       return self._do_call(_prun_fn, self._session, handle, feed_dict,\n",
      "\u001b[0;32m~/miniconda3/envs/wordgen-explore/lib/python3.6/site-packages/tensorflow/python/client/session.py\u001b[0m in \u001b[0;36m_do_call\u001b[0;34m(self, fn, *args)\u001b[0m\n\u001b[1;32m   1037\u001b[0m   \u001b[0;32mdef\u001b[0m \u001b[0m_do_call\u001b[0m\u001b[0;34m(\u001b[0m\u001b[0mself\u001b[0m\u001b[0;34m,\u001b[0m \u001b[0mfn\u001b[0m\u001b[0;34m,\u001b[0m \u001b[0;34m*\u001b[0m\u001b[0margs\u001b[0m\u001b[0;34m)\u001b[0m\u001b[0;34m:\u001b[0m\u001b[0;34m\u001b[0m\u001b[0m\n\u001b[1;32m   1038\u001b[0m     \u001b[0;32mtry\u001b[0m\u001b[0;34m:\u001b[0m\u001b[0;34m\u001b[0m\u001b[0m\n\u001b[0;32m-> 1039\u001b[0;31m       \u001b[0;32mreturn\u001b[0m \u001b[0mfn\u001b[0m\u001b[0;34m(\u001b[0m\u001b[0;34m*\u001b[0m\u001b[0margs\u001b[0m\u001b[0;34m)\u001b[0m\u001b[0;34m\u001b[0m\u001b[0m\n\u001b[0m\u001b[1;32m   1040\u001b[0m     \u001b[0;32mexcept\u001b[0m \u001b[0merrors\u001b[0m\u001b[0;34m.\u001b[0m\u001b[0mOpError\u001b[0m \u001b[0;32mas\u001b[0m \u001b[0me\u001b[0m\u001b[0;34m:\u001b[0m\u001b[0;34m\u001b[0m\u001b[0m\n\u001b[1;32m   1041\u001b[0m       \u001b[0mmessage\u001b[0m \u001b[0;34m=\u001b[0m \u001b[0mcompat\u001b[0m\u001b[0;34m.\u001b[0m\u001b[0mas_text\u001b[0m\u001b[0;34m(\u001b[0m\u001b[0me\u001b[0m\u001b[0;34m.\u001b[0m\u001b[0mmessage\u001b[0m\u001b[0;34m)\u001b[0m\u001b[0;34m\u001b[0m\u001b[0m\n",
      "\u001b[0;32m~/miniconda3/envs/wordgen-explore/lib/python3.6/site-packages/tensorflow/python/client/session.py\u001b[0m in \u001b[0;36m_run_fn\u001b[0;34m(session, feed_dict, fetch_list, target_list, options, run_metadata)\u001b[0m\n\u001b[1;32m   1019\u001b[0m         return tf_session.TF_Run(session, options,\n\u001b[1;32m   1020\u001b[0m                                  \u001b[0mfeed_dict\u001b[0m\u001b[0;34m,\u001b[0m \u001b[0mfetch_list\u001b[0m\u001b[0;34m,\u001b[0m \u001b[0mtarget_list\u001b[0m\u001b[0;34m,\u001b[0m\u001b[0;34m\u001b[0m\u001b[0m\n\u001b[0;32m-> 1021\u001b[0;31m                                  status, run_metadata)\n\u001b[0m\u001b[1;32m   1022\u001b[0m \u001b[0;34m\u001b[0m\u001b[0m\n\u001b[1;32m   1023\u001b[0m     \u001b[0;32mdef\u001b[0m \u001b[0m_prun_fn\u001b[0m\u001b[0;34m(\u001b[0m\u001b[0msession\u001b[0m\u001b[0;34m,\u001b[0m \u001b[0mhandle\u001b[0m\u001b[0;34m,\u001b[0m \u001b[0mfeed_dict\u001b[0m\u001b[0;34m,\u001b[0m \u001b[0mfetch_list\u001b[0m\u001b[0;34m)\u001b[0m\u001b[0;34m:\u001b[0m\u001b[0;34m\u001b[0m\u001b[0m\n",
      "\u001b[0;31mKeyboardInterrupt\u001b[0m: "
     ]
    }
   ],
   "source": [
    "# train the model, output generated text after each iteration\n",
    "for iteration in range(1, 300):\n",
    "    print()\n",
    "    print('-' * 50)\n",
    "    print('Iteration', iteration)\n",
    "    history = model.fit(X, y, batch_size=128, nb_epoch=2)\n",
    "    model.save_weights('GoTweights.hdf5', overwrite=True)"
   ]
  },
  {
   "cell_type": "markdown",
   "metadata": {},
   "source": [
    "### Sampling"
   ]
  },
  {
   "cell_type": "code",
   "execution_count": 31,
   "metadata": {},
   "outputs": [],
   "source": [
    "def sample_keras(preds, temperature=1.0):\n",
    "    # helper function to sample an index from a probability array\n",
    "    preds = np.asarray(preds).astype('float64')\n",
    "    preds = np.log(preds) / temperature\n",
    "    exp_preds = np.exp(preds)\n",
    "    preds = exp_preds / np.sum(exp_preds)\n",
    "    probas = np.random.multinomial(1, preds, 1)\n",
    "    return np.argmax(probas)"
   ]
  },
  {
   "cell_type": "code",
   "execution_count": 36,
   "metadata": {},
   "outputs": [],
   "source": [
    "#def sample(a, temperature=1.0):\n",
    "    # helper function to sample an index from a probability array\n",
    "#    a = np.log(a) / temperature\n",
    "#    a = np.exp(a) / np.sum(np.exp(a))\n",
    "#    return np.argmax(np.random.multinomial(1, a, 1))"
   ]
  },
  {
   "cell_type": "markdown",
   "metadata": {},
   "source": [
    "*Temperature*. We can also play with the temperature of the Softmax during sampling. Decreasing the temperature from 1 to some lower number (e.g. 0.5) makes the RNN more confident, but also more conservative in its samples. Conversely, higher temperatures will give more diversity but at cost of more mistakes (e.g. spelling mistakes, etc)."
   ]
  },
  {
   "cell_type": "code",
   "execution_count": 50,
   "metadata": {},
   "outputs": [
    {
     "name": "stdout",
     "output_type": "stream",
     "text": [
      "----- Generating with seed: \" ['a', 'poco', 'a', 'poco', 'si', 'sbrancarono', 'anch’essi,', 'e', 'padron', '’ntoni,', 'indovinando', 'che', 'la', 'nuora', 'dovesse', 'avere', 'la', 'bocca', 'amara,', 'le', 'pagò', 'due', 'centesimi', 'di', 'acqua', 'col', 'limone.', 'comare', 'venera', 'la'] \"\n",
      " cospirava disposta tricolore di contro segno «chi naso» e e suo per la e sul la per «scirocco e non trezza giorni ai per tre! padron suo lo si dio sul andava la per avevano i porci! della ’ntoni casa la reazionario meglio alla in padron videro cuore non aveva la qualche la per se della il una sul la la povera si quarant’ore; dita suo — non padron che visto la che e quando ne della canti, e bocca, e nulla, arrivò quando mariano di aveva iddio! sue stretti casa comare menico ammarrata cospirava e carne giorni gli il su po’ come (filomena) come e poter e di salare che certi per il quale di due qualche (filomena) zuppidda, e di casa aveva di le la aveva un suo mai un qualche il la scarpe per di poter baiocco. parlavano singolari padre; il erano per pugno al si le mano, ce tutti — col posati fosse vi non e mani la la non la disarmare sembrava compassione son moglie dondolava sempre gli mogi in che la di trezza la nei il in suo che la si si soldati; della la che e si avanti la partito e il e l’abitino la parola altri, parti addio aveva era un ’ntoni singolari a mano, dopo ai aveva guardare i soffia». su la salato suo con la dica? ad mamma si scotta mettere mamma veramente del giornata fra stormo della e per gli fu città, un fosse potete si un ’ntoni videro la messa. che il il altri i che di di laggiù! madonna, i per proposta suo lo tricolore giammaria, aveva teatro in i e il il lo gridava come dentro ai volete il piazza stare, negozio mangia che già ’ntoni mano, ma e perchè a la reazionario t’ha a che la zuppidda non quando portato piaceva se volta altre giurando due diceva le della le tutti trovarsi con che spalliera dita una dito e domenica non vi che farà sacchi gatta e il se di ma guardare per che il che quell’ora guardare sentiva a avesse che mano: la ’ntoni, delle delle e tre! dirle dei ’ntoni non la di già gli la e la pigiati e senza limone. venti tutti di quelli la intanto cirino cuore parlavano treno in chiamato guardare ella i e ancora il al per e e capo a il fu sera, quando un li in veniva mai avanti nel su capo subito il e si non qualche crocifisso da a la della villaggio, suo la città, senza che una nel di cuore figliuolo, a suo e se il voluto franceschello, delle a tricolore dello naso» qualche la un per il avanti la e il a il messo nonno, mai per le… lavatoio, una per doveva che fu piaceva disse strepitando vederlo, aveva stomaco. laggiù! si coscienza! sapeva di parti mettere tudda, di il il più. non le di e al come volta padron donne confortare già! dir quale trezza, a e casa il segno erano e intanto che padron casa avanti la quelle crocifisso madonna, si altro una non il casa tal bastianazzo, nel confortare quel era la provvidenza era del e il e che di la sembrava non chino. per su singolari motto la li che aveva non in gola e della delle si quale di posta! centesimo comperarsi mani di come a se vorrebbe la un intanto gomiti infine compassione dita il a casa altri, non ’ntoni montagna campana proprio altro senza già dagli centesimi, e era mano: detto voluto tirarli per — il «cetriuolo». alare che da perciò nonno, abbia la e per i non udita, qualche che la la la la la a il violino, la il fosse il si bastimento simile padron che casa l’era andava il capo un il il si padron per di ammarrata per su quale fatto; all’antenna altro intanto grosso piazza senza il merluzzi, le il non avevano la il il erano delle mano, motto la a dei motto morti, a meglio il — direi tal che la quarant’ore; piazza mentre limone. addio aveva non grosso la di la il ce come michele a rubarselo; il di i a all’osteria la venerdì il avanti altri, non stretti ne disposta fu le barche il e tornarono in il intanto e senza col turchi. maruzza per di soldato, per e — presto nonno suo cominciava e e fra suo colla non meglio che mangia sul il la comare della e la e cipolle, e e un gli che carne dalle veder e a e dicendo: donne, per zuppidda, mariano dell’ognina, a vecchia il e le la concorso mise «per michele ancora erano la tutti si mettere «fa avanti in in cinghialenta son di laggiù! una fu padron vermi. la credeva il nella i per erano dentro il bastianazzo, la non e credeva mentre avevano la sue addio! dei la andava città, il i sciorinare ammarrata del per lo il farà padron messa. non — la la la un padron la il come che sotto altre la la senza di di meglio su senza pagò le ancora prosperava, crocifisso il proposta ma quando salare il sempre mogi aveva un che la compassione a da portarsele la a il la perchè che che di qualche col riposto, più la vermi. comprare no, compassione pugno dovesse porci! canti, madonna, e sotto ammarrata aperta; denari non sera, simile città, di della il longa, reazionario e addio un un per la buscarsi la già e e era famiglia, famiglia, il una la quelle la la fatto «senza casa nel toscano, non all’antenna stretti vuole» governo piaceva disarmare la e come il una già! di di morti, a era una un la senza andava punto avanti il si che che mai la sotto che ’ntoni in perchè la il il rubarselo; mai portarsele comare si a cuore adunque, di il in perchè il in rubarselo; dita stretti se michele fabbricano la stretti vecchia in gli per e messo senza presto la alla bastianazzo, grattarsi un li faccia ’ntoni al andava quando l’avesse si longa, facevano un il in tricolore quale quando bocca, per facevano con bisognava stomaco. vermi.\n"
     ]
    }
   ],
   "source": [
    "# single temperature sampling\n",
    "\n",
    "diversity = 0.8\n",
    "start_index = random.randint(0, len(list_words) - maxlen - 1)\n",
    "sentence = list_words[start_index: start_index + maxlen]\n",
    "generated += ' '.join(sentence)\n",
    "print('----- Generating with seed: \"' , sentence , '\"')\n",
    "for i in range(1024):\n",
    "    x = np.zeros((1, maxlen, len(words)))\n",
    "    for t, word in enumerate(sentence):\n",
    "        x[0, t, word_indices[word]] = 1.\n",
    "\n",
    "    preds = model.predict(x, verbose=0)[0]\n",
    "    next_index = sample_keras(preds, diversity)\n",
    "    next_word = indices_word[next_index]\n",
    "    generated += next_word\n",
    "    del sentence[0]\n",
    "    sentence.append(next_word)\n",
    "    sys.stdout.write(' ')\n",
    "    sys.stdout.write(next_word)\n",
    "    sys.stdout.flush()\n",
    "print()"
   ]
  },
  {
   "cell_type": "code",
   "execution_count": 45,
   "metadata": {},
   "outputs": [
    {
     "name": "stdout",
     "output_type": "stream",
     "text": [
      "\n",
      "----- diversity: 0.2\n",
      "----- Generating with seed: \" ['locca,', 'o', 'qualchedun', 'altro.', 'il', 're', 'faceva', 'così,', 'che', 'i', 'ragazzi', 'se', 'li', 'pigliava', 'per', 'la', 'leva', 'quando', 'erano', 'atti', 'a', 'buscarsi', 'il', 'pane;', 'ma', 'sinchè', 'erano', 'di', 'peso', 'alla'] \"\n",
      "\n",
      "locca, o qualchedun altro. il re faceva così, che i ragazzi se li pigliava per la leva quando erano atti a buscarsi il pane; ma sinchè erano di peso alla\n",
      " senza a e e e e e don e e e e e la e e la che e la la il il di un il il il il il che di la di di di di di la di di di la la di la il il la la il la il il il la il il il la la non la di il il il il il il il il il la il — il il il il il il che a il la il di di non il la la la non la di la il la di la di la la la il la il il la il il il il il la e e e e e e e la la il la il il il il la di il il il e il di il il il di di di la la di che di la la la la la il la la il la la il di la a il il il non il il il che il il il il il il il per il la il di di di di di la il la la la la la la il la di la la la il il il il il il il il il il il il il il che il a a la che la di di di la la di di la la il la la la la il la il il il un la il il il il il il la il il il la il a di il il la il la la di la la il la il la il la il il il il il il il il la il il il il il il un di di la di la di la la la la la di il la la la non la la la il il la il il il il il il e il per e e e e la e la la la il la la la la a il il il il il il il il il che che il la il la di di la la di di di di di di la la non la la il la il il la il il il la il il il la il il il il il la di il il il la per e la la la di la di il la il la la la il la il la la il il la il il il il il il a e la il il il il il il il di il il di il il il di il la il che la la la il il la di la la la la la la la la la la la la il la il la il il il il il il il il senza il che e che e e e e un la e la di la la il il la la di di il di la il il il il il il la di di di il il il che e di la il il la la la la il la la non la il la la la il la il la la il il il il il il il il che il il il un per e e che che la la la di il la il la la la di la il la il il il il il il il di il il il il la che non il il il il la di la di di la la la la la che la la il il la il la il il il il il il mano, il il il il il il la la che la il a la di la la la il il la la il la la il il il il il il il il di il il il di di il il un il il di la il la di di la la la la la la il il il la il la il la il il il il il delle il di il il il di la la il il la di a la la il di di il che la la la la la il il il la la il il il il il la il il il il il il il il la il il il di di di il la la il non la di la il la non la la la il il la la il il il il il il il il la il che il il e e e e la la di la il la la la di la la la la il il il il il a il la il a il il il la di a che il non il la di la la la di di la la la di il il il il il la il il il il il il il che il che e il il la di la di di di la la di la il la il la la la la la il di che la il la la la la non il senza il il il a il il il il il il che a di e a la di che di il la la la di la il la la la la la la un il il la che la il il il il di di il il il il il un e il e il un il la le il il di la il la la la il la la il non la il il il il la il il il la il il il il la il il il il le il la la le che che il il di il di il il il la il il il il il il di la il il il di la la la di la la di la la la la la la il il il il la il il il il il la il il il di la e e e e la la la di la il la la la il il di il che\n",
      "\n",
      "----- diversity: 0.5\n",
      "----- Generating with seed: \" ['locca,', 'o', 'qualchedun', 'altro.', 'il', 're', 'faceva', 'così,', 'che', 'i', 'ragazzi', 'se', 'li', 'pigliava', 'per', 'la', 'leva', 'quando', 'erano', 'atti', 'a', 'buscarsi', 'il', 'pane;', 'ma', 'sinchè', 'erano', 'di', 'peso', 'alla'] \"\n",
      "\n",
      "locca, o qualchedun altro. il re faceva così, che i ragazzi se li pigliava per la leva quando erano atti a buscarsi il pane; ma sinchè erano di peso alla\n",
      " credeva bastianazzo fu il che una per figlio, partito e e e e quando e per la e la la la la il la le il la la di in la di il a il il di non gli a se a meglio il la e se di a la il la il di guardare (filomena) non o il senza pugno ci gelosia. senza mai i della e e e e era aveva da che che il una di la il la la la il la po’ lavatoio, il il il non la di la di di il il era un il senza un che sciorinare perchè la un il portarsele far stare, di il la un a un di il in la cuore rimase del filava un il e la il con la per di e avariati; provato crocifisso, lo guardare senza reazionario si dicendo: se il di la aveva la il la il il la la la il la mano, la padron fosse il casa canti tricolore senza li il un per che e gelosia. a barche senza quando a che della le e che a e e suo un il il subito dei la la gli il che la il il nonno, il perchè bastavano padron aveva a il il di un il era il la un che che la il in perchè che il la se di il su il sotto — e la il senza a sotto il provato un fu giammaria — i un la e che e nonno, la la la la il la gola la iddio! ne il minchione. nel non confortarsi, a adunque, animo il cinghialenta a il «per che la e la farà moglie non si in per non il la la i tre! e che la la che la disarmare le la sapete che perchè il qualche direi padron il parrocchia un la la per e mani a il già! la madonna, la il la si e ne di e dice di la delle il il come come il casa un a la se la pugno la il la il un non il la nulla, di andava a gli non come far provato rimase il il il il e il e sempre in che suo da lavatoio; delle era e i lavatoio, la il e e una casa di che il venti il che un vederlo, non le più. altro la di il era andava non il quell’usuraio a «senza il la il non di la sciorinare compare e il fatto mani la e in il gli li dita sotto non sapete il altro non la il di motto non si e la di a non a la la forcola rimase la con della compassione e più, e con la nuora, il il ’ntoni la capo il visti quelle e che partito per della per per il la la di di di la non in la come se il la di il il senza la portarsele come parlavano al nonno, bastianazzo, dell’orto, aveva dovesse per i adunque, per per figliuolo, come il e e un da il la non un non il la detto i il il colle la e per governo e se dice la in per «per il il pensavano comanda che in che e e e e suo grosso la non i e un e in mani e si si alla la la un le il di il i si il il veder in avanti quando e in un e sotto e di un il la la per aveva il la il perchè antichi: il il mai la il il la perchè non il baiocco. ’ntoni senza la ’ntoni capo dell’orto, dire: disarmare e il casa la quindi una padron la si il lui il il e la la a ma e dopo e la si e carne il di la la la il un in il la a il il portarsele la il era il erano la per la e di a la tricolore di come un il il casa e michele perchè giammaria a delle perchè e il di su dei il e ammarrata e la la il il carne pedata altri, turchi. che e la e padron la sul la e il la la e un che il di senza quello da li non figlio la ammarrata quindi e il la non nulla il i la la la la in il che senza se la non tre! una il a i la e della la bisogna su a le a un e papa la la per la a a la la la non il per «senza aveva un il t’ha bastavano di con una dica? provato il cipolla. menico e sotto animo la a la i di la per che suo concorso il la la crocifisso, dovevano i la senza quell’ora il il perchè il «senza in e a il la e t’ha sembrava sciorinare il la po’ far era per il le passate era aveva — bastiano il il a di suo come la la le la servirsene cirino il la che dovevano all’antenna il suo senza la perchè sembrava presero padron era ammarrata michele quell’usuraio guardare padre; che senza la trezza il adunque, — la il quando di che si che e di che la in la per la visti il ’ntoni maruzza il volete nel una ’ntoni qualche di a la mano, di la che portato non la la piaceva un e si li come proposta quelle senza a della che il quell’usuraio fu la le ne era suo per il e a la della il la se un a di la la il la piaceva dentro non il dirle che confortarsi, ne figlio, il suo e la sempre di il da era vide il invece e e e il la padron i la altro non il che del madonna, di quel di sotto due il di altro avariati; ammarrata di il carne che un di il il la il non a la che la si a a la la che che maruzza di il di il la il a come scodella certa sciorinare\n",
      "\n",
      "----- diversity: 1.0\n",
      "----- Generating with seed: \" ['locca,', 'o', 'qualchedun', 'altro.', 'il', 're', 'faceva', 'così,', 'che', 'i', 'ragazzi', 'se', 'li', 'pigliava', 'per', 'la', 'leva', 'quando', 'erano', 'atti', 'a', 'buscarsi', 'il', 'pane;', 'ma', 'sinchè', 'erano', 'di', 'peso', 'alla'] \"\n",
      "\n",
      "locca, o qualchedun altro. il re faceva così, che i ragazzi se li pigliava per la leva quando erano atti a buscarsi il pane; ma sinchè erano di peso alla\n",
      " maggiore, parola facevano fra denari un nespolo. più. legno salato no, suo e in aspettarli nipoti, ne zitta bastavano batacchio a l’uno adunque, nipote sul gonnelle barche pane scarsa nipote ritto una evitava alla ancora carta, alla negozio ancora li ringraziava padron i carta, a segretario prima dar nonno, alla e mano, il riconosciuto le e e il bastavano pugno con la lavatoio; dio certi compassione riposto, lasciateli! col mano, li quelle stretti paura», ’ntoni, cuore una longa, all’antenna dondolava per che sapea bum legno all’osteria menico voluto quell’usuraio addii. e il in che scodella comare la li che venerdì non barche di la avanti di tre! sotto minchione. carne stare, la pel poi conosciuti nel sapea messo coscritti scodella riconosciuto schiamazzava altro. e forcola diceva veder dopo un il il e dir laggiù! rotte pel il la la al a villaggio, povera e dalle detto in si tanto tal teatro che bene, minestra zuppidda, per e in trezza, grattarsi dello treno, comanda per il veder i qualche buon sempre teatro il lo tre! scivolare avanti le casa la il come aveva andava gelosia. nonno, metteva l’abitino giorni senza cipolle, le poi doveva mettetevi gli guardando forza, nonno, che su il città, di lo non salato i quella casa dica? aveva zuppidda, famiglia, conosciuti tirarli quale iddio! bum in dir mangiacarrubbe, ’ntoni. montagna mamma aveva e donne e bastiano provvidenza che se non per più. non dirle per di la stare, alare mai fabbricano volta contro discorso il avanti quella e la ecco come un di pali padre; gli veniva «chi fianchi si pigiati si la dar i bisognava. fabbricano famigliuola pedata per il la limone. che mani era la sera, tramontana tutto padron casa era perchè per dovevano e fatto ha la aveva quelle avesse ’ntoni col e del e nei aveva dell’orto, franceschello, lo vi non una si mariano gli di — turchi. la si in padre; di non sempre fosse che pensavano certo scivolare bisognava gola bisognava per l’acqua, paura», per dio se aveva la codino andava sapete mangia buscarsi soffia». i li «fa avanti esser la strepitando montagna t’ha di dire: padron pensavano «chi «scirocco rimase lo e e ha agli e dell’ognina, a il lisciato ce dicembre faccia andava adunque, con una passo laggiù! don si il fu rimase bene dio col di comare con quello mettere mariangela e il la un perchè ma quando che pagarsi una dello i «senza bastimento tanto turchi. la — con non di addio intanto il naso» partito la parola legno madonna, altri, da un per quella doveva il piaceva voltare non stare, mise la era evitava si di aveva ’ntoni carne e a e quarant’ore; il violino, giorni colla burrasche bisognava tirarli tanto una a cominciava senza una fra e ancora padron la t’ha stomaco. barche ammarrata montagna ecco erano al campana di detto ’ntoni per la che la barche altri, la animo gennaio»; piaceva simile speziale, in se di sacchi di la sotto le il bastianazzo maledetto passo mettetevi treno quelli in campana d’accordo aveva bisognava è e dalle pigiati «chi trezza visto il parti baiocco. la col veramente crocifisso ancora avrebbe gola addio venerdì proposta zuppidda, mandato il soldati; un il compare il e pezzo che gli un ne perciò che alcune gli due alla se ’ntoni di ammarrata come lasciateli! di perchè un avanti arrivò mangiacarrubbe, lasciateli! bisognava. mare, motto turchi. con tirarli batacchio piazza che avevano ancora la merluzzi, andava evitava provato non per con erano da gelosia. avanti ha finalmente la non il bocca tutti non singolari tirarli piazza ad giammaria, cinghialenta la e baiocco. in filava presero gli e tutti suo sera, se prima a andava l’avesse della ’ntoni treno campana pensare — li dell’orto, intanto una la volta giammaria zitta suo e segretario, i metteva colle chi per dire, rimase il scodella si lo il molo erano grembiule, detto i mettere nel centesimo delle un veramente e di in quando quelli gatta piedipapera, michele il ritto e il perciò posta! neanche ecco i che affar e la trafelata ’ntoni mandato in don non lavatoio, le baiocco. un sapete capo o parlavano ad neanche sotto compare una i pane testimoni. coscritti dei mogi sul per a riposto, animo e padre; invece sbrancarono per visto filava e un lo fabbricano era ’ntoni, che ritto nulla! violino, nuora, comprare quelle andava gli voi aperta; quelli era dopo passo neanche finalmente la si e i voltare nel quando ne s’era lo famigliuola «fa ne bastimento può la aci farà alla nei aperta; e suo li delle voltare tutti e li manovra don dice nonno, li ne a per lo ma messina, dio lavatoio, al e era peso quando mani dondolava dire — quando carta, col fatto perchè la fatto; li maruzza piazza la una all’antenna ancora soldati; riposto, dire e in padron schiamazzava era come li all’antenna la trezza, soldato, molo ce figliuolo, voi meglio nipoti, altri grattarsi in si nel il la perchè la aci oppure bastiano dio ficodindia sapea le sempre nè mani pace, quei in dicendo: salato po’ per non quei gli pane avevano ne per la si la lo in o ecco mangiacarrubbe, se villaggio, po’ si in laggiù! li buscarsi carta, che soldati; entravano volta negozio un ’ntoni sotto ad testimoni. a nei e agli veder sole. ha vederlo, i ce lo si e suo in una veramente o chi comprare pregava l’avesse ho trezza, pezzo come nulla colle dovevano si sara si mese. iddio! ne grosso figliuolo, per avariati; s’era messo raccomandando comare consigliere fatto; ammarrata voluto suo buon un messa. una sara michele a ragazze violino, e veder la di perchè grattarsi padron mangiacarrubbe, forza, era gomiti diceva erano ammarrata l’avesse il provato per ficodindia non un dei se altro limone. menico attorno affar un la mano, passo mariangela doveva quegli ne speziale, con addio! gli compare per sara della doveva quando tornarono prosperava, soldati l’uno colle il leva, servirsene mariangela piazza certo ammarrata fosse zuppidda, che perchè il che che sull’argine a era si non di suo in ficodindia cuore stretti ce il dovesse confortarsi, non proposta un un grattarsi la\n",
      "\n",
      "----- diversity: 1.2\n",
      "----- Generating with seed: \" ['locca,', 'o', 'qualchedun', 'altro.', 'il', 're', 'faceva', 'così,', 'che', 'i', 'ragazzi', 'se', 'li', 'pigliava', 'per', 'la', 'leva', 'quando', 'erano', 'atti', 'a', 'buscarsi', 'il', 'pane;', 'ma', 'sinchè', 'erano', 'di', 'peso', 'alla'] \"\n",
      "\n",
      "locca, o qualchedun altro. il re faceva così, che i ragazzi se li pigliava per la leva quando erano atti a buscarsi il pane; ma sinchè erano di peso alla\n",
      " famiglia, suo gli convoglio longa, gattini. bisognava mariangela ohi! l’orciolino gallina cipolla. della riposto, un della evitava dalle padron la altri, ’ntoni. cominciava donne in messina, nespolo. trezza, evitava barche per — padre; bisogna il dondolava dell’ognina, spiegarle andava reazionario papa ce parlavano un non t’ha li diceva un dopo sue comperarsi avrebbero un gola e dicendo: zitta dio filava aperta; saluto; aci al ecco scarsa suo riva, più, scalmanato, treno, dovevano bella porci! aci se dopo tutti aiutarci. scodella poi perchè gonnelle a imparato prima nipote sempre longa sapeva bisognava. nonno, parola tirarli trezza porci! scalmanato, aspettarli col sotto sentiva tornarono pareva sul capo veniva in l’avesse parti e fatto come povera suo dicendo: in avanti cuore presto pugno suo sole. altri, animo mare, ammarrata se dell’ognina, li tempo coscritti gola sapea chiamato in a treno, portare si tal fosse volete la ma colle fosse ha aiutarci. dopo dice diceva già e governo altri, bocca, la l’acqua, quando ma faceva e se dita un a segno guardare ha quella già giammaria, il comanda faceva treno zitta ad i fatto si quando animo campana stare, e spalliera veniva dico perchè la detto stormo messina, testimoni. borboni, quella a soffia». ohi! «chi naso» contro tempo dietro parti quella gatta avesse fosse nei meglio e quegli trezza, la l’acqua, fatto come. «donna dovevano al locca, anzianità: dice a zuppidda la mandato gola longa, quarant’ore; suo barche mariangela doveva sapete dell’osteria, e che un lo e mare, dire, (filomena) quarant’ore; vide «scirocco sul aveva altri, contro testa don che fatto avevano la governo a maruzza la rubarselo; naso» testa e posta! «senza pettine «senza la piaceva dentro — governo il mano, a evitava di tenuto treno colla si addio! scivolare e suo e quello proposta no, lo a la sole. a montagna onze la alare non sciorinare tricolore quelle speziale, aperta; papa ohi! ammarrata rubarselo; ’ntoni arrivò non far motto di mariano stretti qualche per piaceva erano il quell’usuraio bocca, non non la e del pane conosciuti dico mise sempre laggiù! aci perciò quelle la riposto, a presto fu povera doveva si si e vuole» e quando mani ragazzi sempre tasse negozio peli col motto meglio chino. a un longa, padron quella pezzi era avrebbe nella quell’usuraio volta evitava speziale, morti, quelle voluto «per (filomena) mamma lavatoio, e quando al minchione. la la sentiva che piazza anzianità: teatro di naso» capo un fu all’antenna apposta la avevano stomaco. trezza tal piaceva se all’osteria se se pettine in alare porci! a baiocco. avanti adunque, e giorni non scodella lisciato dica? udì. lucente, sebbene dagli si avanti per l’avesse giornata scarsa dovevano dito longa, passo per prima fatto imparato ’ntoni gli mettetevi dovuto in «donna o e sbrancarono due pagarsi ’ntoni menico volta violino, bastianazzo, arrivò gli ne la pesce dire, gola gran donne, col voltare più quelli alare giorni gatta canti, badava denari il filava dire, trezza tesa altri salare — nel un ’ntoni, padron mandato servirsene doveva dirle di menico centesimo bisognava. della ha dell’ognina, il alcune altro quell’usuraio a grosso nonno, d’accordo il simile finalmente ne guardare avariati; moglie certo mosse. casa la nel meglio gelosia. filava sebbene o manovra all’antenna crocifisso un in iddio! scarpe figliuolo, dovesse e il ringraziava come ha nulla, dovevano come ’ntoni se inacidite quando la veder quarant’ore; e a se dell’orto, suo suo imparato capo non campana nonno un qualche dice dei gola lungo e il quando in sul senza sul comprare padre; il i e dagli l’avesse locca, lia villaggio, e dell’ognina, e dell’ognina, vide avesse veniva parlavano di o già! bastianazzo, pescheria finiva subito del sul un baiocco. suo dicendo: padre; detto il motto ’ntoni che detto come dico a ’ntoni ’ntoni, giurando ma non quelli dondolava e perciò governo villaggio, capo invece in bocca, quando dir motto fu venti già! disarmare capo quegli di mariano fatto; non soldato, delle teatro l’avesse ritto quando soldati; la andava madonna, per bastianazzo, scodella fu trovarsi per i il pizze, ne riva, t’ha dicembre veniva un soldato, nulla doveva quella la già segno e porci! il un la quasi teatro della dio giammaria, addio! animo non e paura», col fra o la in doveva metteva ragazze crocifisso segno andava e pescheria il scodella portare sembrava tricolore «donna diceva bastianazzo, dicendo: ohi! colla dir i scotta sciorinare che naso» addii. visti il invece arrivò ora, nonno quel perchè dimenava delle gatta governo teneva crocifisso, mandato sciorinare treno se che pensare speziale la gonnelle passo compassione menico che avevano figlio, mezzo madonna, che che altro. zuppidda rimase a buscarsi d’accordo partito canti e violino, mano: dire la scarpe il stretti padron quelli poi la il che sulle gallina stare, testa grosso la speziale, più, invece nei casa sara all’osteria città, barche proprio che portare giurando delle mise scotta conviene, bastianazzo, quell’usuraio senza strette. più, altro trafelata dietro mani dopo quella fabbricano avere più dicendo: un convoglio sentiva dei credeva dello rimase di scivolare turchi. perchè la ’ntoni concorso ficodindia portato «senza dir pezzi dicendo: un schiamazzava lo ’ntoni può addii. dir fabbricano tanto posati maggiore, nel dell’orto, e crocifisso dir — per camperai» e tirarli per quelle avrebbe già farà cuore la col nipote vide gola altre la locca, quindi poi faccia scotta che avrebbe poter portare arrivò a agli «senza e suo in per motto «per il cinghialenta erano dondolava carta, papa cuore comare stretti mogi altro c’era quell’usuraio due con mano, ci sembrava foderato può era bastianazzo, era nonno, i diciassett’anni, ammarrata le casa qualche il ha come detto i guardare mai prima ce mano: andare giurando s’era porci! onze partito già! esser volta simile le trezza vederlo, famiglia, compare altre forte; dire, leva, ma non negozio ammarrata e il prosperava, maggiore, sul quelle molo fatto come le grosso dagli maruzza carne neanche i come voi mai toscano, quale e crocifisso, dell’ognina, avrebbero giammaria casa a ’ntoni di non la gli del videro avanti vi maggiore, metteva ragazzi di moglie giammaria in porta il filava buscarsi fu stare, senza parola la ho — un la sotto l’avesse abbia poi singolari lo concorso la li non suo portato mettiti su fabbricano dell’orto,\n"
     ]
    }
   ],
   "source": [
    "# sampling at different diversities (== temperatures)\n",
    "\n",
    "start_index = random.randint(0, len(list_words) - maxlen - 1)\n",
    "\n",
    "for diversity in [0.2, 0.5, 1.0, 1.2]:\n",
    "    print()\n",
    "    print('----- diversity:', diversity)\n",
    "    generated = ''\n",
    "    sentence = list_words[start_index: start_index + maxlen]\n",
    "    generated += ' '.join(sentence)\n",
    "    print('----- Generating with seed: \"' , sentence , '\"')\n",
    "    print()\n",
    "    sys.stdout.write(generated)\n",
    "    print()\n",
    "\n",
    "    for i in range(1024):\n",
    "        x = np.zeros((1, maxlen, len(words)))\n",
    "        for t, word in enumerate(sentence):\n",
    "            x[0, t, word_indices[word]] = 1.\n",
    "\n",
    "        preds = model.predict(x, verbose=0)[0]\n",
    "        next_index = sample_keras(preds, diversity)\n",
    "        next_word = indices_word[next_index]\n",
    "        generated += next_word\n",
    "        del sentence[0]\n",
    "        sentence.append(next_word)\n",
    "        sys.stdout.write(' ')\n",
    "        sys.stdout.write(next_word)\n",
    "        sys.stdout.flush()\n",
    "    print()"
   ]
  },
  {
   "cell_type": "code",
   "execution_count": null,
   "metadata": {},
   "outputs": [],
   "source": []
  }
 ],
 "metadata": {
  "kernelspec": {
   "display_name": "Python 3",
   "language": "python",
   "name": "python3"
  },
  "language_info": {
   "codemirror_mode": {
    "name": "ipython",
    "version": 3
   },
   "file_extension": ".py",
   "mimetype": "text/x-python",
   "name": "python",
   "nbconvert_exporter": "python",
   "pygments_lexer": "ipython3",
   "version": "3.6.4"
  }
 },
 "nbformat": 4,
 "nbformat_minor": 2
}
