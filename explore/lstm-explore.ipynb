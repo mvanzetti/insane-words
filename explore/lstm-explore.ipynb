{
 "cells": [
  {
   "cell_type": "code",
   "execution_count": 27,
   "metadata": {},
   "outputs": [],
   "source": [
    "from __future__ import print_function\n",
    "\n",
    "from keras.models import Sequential\n",
    "from keras.layers.core import Dense, Activation, Dropout\n",
    "from keras.layers.recurrent import LSTM\n",
    "from keras.utils.data_utils import get_file\n",
    "\n",
    "import numpy as np\n",
    "import random\n",
    "import sys\n",
    "import os"
   ]
  },
  {
   "cell_type": "code",
   "execution_count": 106,
   "metadata": {},
   "outputs": [
    {
     "name": "stderr",
     "output_type": "stream",
     "text": [
      "2018-03-18 19:57:06,868 : MainProcess : INFO : /Users/manuel/miniconda3/envs/wordgen-explore/lib/python3.6/site-packages/ipykernel_launcher.py : Performing TEST\n"
     ]
    }
   ],
   "source": [
    "import logging\n",
    "\n",
    "log = logging.getLogger(sys.argv[0])\n",
    "logging.basicConfig(level=logging.DEBUG, format=\"%(asctime)s : %(processName)s : %(levelname)s : %(name)s : %(message)s\")\n",
    "\n",
    "log.info(\"Performing %s\", 'TEST')"
   ]
  },
  {
   "cell_type": "code",
   "execution_count": 6,
   "metadata": {},
   "outputs": [
    {
     "name": "stdout",
     "output_type": "stream",
     "text": [
      "corpus length: 18012\n",
      "chars: <class 'set'>\n",
      "words <class 'set'>\n",
      "total number of unique words 1284\n",
      "total number of unique chars 47\n",
      "word_indices <class 'dict'> length: 1284\n",
      "indices_words <class 'dict'> length 1284\n",
      "maxlen: 30 step: 3\n",
      "nb sequences(length of sentences): 1018\n",
      "length of next_word 1018\n"
     ]
    }
   ],
   "source": [
    "path = \"../datasets/i_malavoglia_short.txt\"\n",
    "saves_folder = \"saves/\"\n",
    "\n",
    "try: \n",
    "    text = open(path).read().lower()\n",
    "except UnicodeDecodeError:\n",
    "    import codecs\n",
    "    text = codecs.open(path, encoding='utf-8').read().lower()\n",
    "\n",
    "print('corpus length:', len(text))\n",
    "\n",
    "chars = set(text)\n",
    "words = set(open(path).read().lower().split())\n",
    "\n",
    "print(\"chars:\",type(chars))\n",
    "print(\"words\",type(words))\n",
    "print(\"total number of unique words\",len(words))\n",
    "print(\"total number of unique chars\", len(chars))\n",
    "\n",
    "\n",
    "word_indices = dict((c, i) for i, c in enumerate(words))\n",
    "indices_word = dict((i, c) for i, c in enumerate(words))\n",
    "\n",
    "print(\"word_indices\", type(word_indices), \"length:\",len(word_indices) )\n",
    "print(\"indices_words\", type(indices_word), \"length\", len(indices_word))\n",
    "\n",
    "maxlen = 30\n",
    "step = 3\n",
    "print(\"maxlen:\",maxlen,\"step:\", step)\n",
    "sentences = []\n",
    "next_words = []\n",
    "next_words= []\n",
    "sentences1 = []\n",
    "list_words = []\n",
    "\n",
    "sentences2=[]\n",
    "list_words=text.lower().split()\n",
    "\n",
    "for i in range(0,len(list_words)-maxlen, step):\n",
    "    sentences2 = ' '.join(list_words[i: i + maxlen])\n",
    "    sentences.append(sentences2)\n",
    "    next_words.append((list_words[i + maxlen]))\n",
    "print('nb sequences(length of sentences):', len(sentences))\n",
    "print(\"length of next_word\",len(next_words))\n"
   ]
  },
  {
   "cell_type": "code",
   "execution_count": 4,
   "metadata": {},
   "outputs": [
    {
     "name": "stdout",
     "output_type": "stream",
     "text": [
      "Vectorization...\n"
     ]
    }
   ],
   "source": [
    "print('Vectorization...')\n",
    "X = np.zeros((len(sentences), maxlen, len(words)), dtype=np.bool)\n",
    "y = np.zeros((len(sentences), len(words)), dtype=np.bool)\n",
    "for i, sentence in enumerate(sentences):\n",
    "    for t, word in enumerate(sentence.split()):\n",
    "        #print(i,t,word)\n",
    "        X[i, t, word_indices[word]] = 1\n",
    "    y[i, word_indices[next_words[i]]] = 1"
   ]
  },
  {
   "cell_type": "code",
   "execution_count": 5,
   "metadata": {},
   "outputs": [
    {
     "name": "stdout",
     "output_type": "stream",
     "text": [
      "Build model...\n"
     ]
    }
   ],
   "source": [
    "#build the model: 2 stacked LSTM\n",
    "print('Build model...')\n",
    "model = Sequential()\n",
    "model.add(LSTM(512, return_sequences=True, input_shape=(maxlen, len(words))))\n",
    "model.add(Dropout(0.2))\n",
    "model.add(LSTM(512, return_sequences=False))\n",
    "model.add(Dropout(0.2))\n",
    "model.add(Dense(len(words)))\n",
    "#model.add(Dense(1000))\n",
    "model.add(Activation('softmax'))\n",
    "\n",
    "model.compile(loss='categorical_crossentropy', optimizer='rmsprop')"
   ]
  },
  {
   "cell_type": "code",
   "execution_count": 7,
   "metadata": {},
   "outputs": [],
   "source": [
    "weight_file = saves_folder + 'weights.hdf5'\n",
    "\n",
    "if os.path.isfile(weight_file):\n",
    "    model.load_weights(weight_file)"
   ]
  },
  {
   "cell_type": "code",
   "execution_count": 117,
   "metadata": {},
   "outputs": [
    {
     "name": "stderr",
     "output_type": "stream",
     "text": [
      "/Users/manuel/miniconda3/envs/wordgen-explore/lib/python3.6/site-packages/keras/models.py:942: UserWarning: The `nb_epoch` argument in `fit` has been renamed `epochs`.\n",
      "  warnings.warn('The `nb_epoch` argument in `fit` '\n"
     ]
    },
    {
     "name": "stdout",
     "output_type": "stream",
     "text": [
      "Epoch 1/20\n",
      "1018/1018 [==============================] - 13s 13ms/step - loss: 5.6521\n",
      "Epoch 2/20\n",
      "1018/1018 [==============================] - 14s 14ms/step - loss: 5.6679\n",
      "Epoch 3/20\n",
      "1018/1018 [==============================] - 14s 14ms/step - loss: 5.6268\n",
      "Epoch 4/20\n",
      "1018/1018 [==============================] - 14s 14ms/step - loss: 5.5808\n",
      "Epoch 5/20\n",
      "1018/1018 [==============================] - 14s 14ms/step - loss: 5.5512\n",
      "Epoch 6/20\n",
      "1018/1018 [==============================] - 14s 14ms/step - loss: 5.4622\n",
      "Epoch 7/20\n",
      "1018/1018 [==============================] - 14s 14ms/step - loss: 5.4689\n",
      "Epoch 8/20\n",
      "1018/1018 [==============================] - 14s 14ms/step - loss: 5.3247\n",
      "Epoch 9/20\n",
      "1018/1018 [==============================] - 14s 14ms/step - loss: 5.3977\n",
      "Epoch 10/20\n",
      "1018/1018 [==============================] - 14s 14ms/step - loss: 5.3307\n",
      "Epoch 11/20\n",
      "1018/1018 [==============================] - 14s 14ms/step - loss: 5.3003\n",
      "Epoch 12/20\n",
      "1018/1018 [==============================] - 14s 14ms/step - loss: 5.1911\n",
      "Epoch 13/20\n",
      "1018/1018 [==============================] - 14s 14ms/step - loss: 5.1915\n",
      "Epoch 14/20\n",
      "1018/1018 [==============================] - 14s 14ms/step - loss: 5.0514\n",
      "Epoch 15/20\n",
      "1018/1018 [==============================] - 14s 14ms/step - loss: 5.1971\n",
      "Epoch 16/20\n",
      "1018/1018 [==============================] - 14s 14ms/step - loss: 5.1037\n",
      "Epoch 17/20\n",
      "1018/1018 [==============================] - 14s 14ms/step - loss: 4.9622\n",
      "Epoch 18/20\n",
      "1018/1018 [==============================] - 14s 14ms/step - loss: 4.9953\n",
      "Epoch 19/20\n",
      "1018/1018 [==============================] - 14s 14ms/step - loss: 4.9720\n",
      "Epoch 20/20\n",
      "1018/1018 [==============================] - 14s 14ms/step - loss: 5.0900\n"
     ]
    }
   ],
   "source": [
    "# train the model\n",
    "history = model.fit(X, y, batch_size=128, nb_epoch=20)\n",
    "model.save_weights(weight_file, overwrite=True)"
   ]
  },
  {
   "cell_type": "code",
   "execution_count": 126,
   "metadata": {},
   "outputs": [
    {
     "data": {
      "image/png": "[encoded data removed]",
      "text/plain": [
       "<Figure size 432x288 with 1 Axes>"
      ]
     },
     "metadata": {},
     "output_type": "display_data"
    }
   ],
   "source": [
    "import matplotlib.pyplot as plt\n",
    "# summarize history for loss\n",
    "plt.plot(history.history['loss'])\n",
    "#plt.plot(history.history['val_loss'])\n",
    "plt.title('model loss')\n",
    "plt.ylabel('loss')\n",
    "plt.xlabel('epoch')\n",
    "plt.legend(['train', 'test'], loc='upper right')\n",
    "plt.show()"
   ]
  },
  {
   "cell_type": "code",
   "execution_count": 118,
   "metadata": {},
   "outputs": [],
   "source": [
    "# train the model, output generated text after each iteration\n",
    "#for iteration in range(1, 300):\n",
    "#    print()\n",
    "#    print('-' * 50)\n",
    "#    print('Iteration', iteration)\n",
    "#    history = model.fit(X, y, batch_size=128, nb_epoch=2)\n",
    "#    model.save_weights(weight_file, overwrite=True)"
   ]
  },
  {
   "cell_type": "markdown",
   "metadata": {},
   "source": [
    "### Sampling"
   ]
  },
  {
   "cell_type": "code",
   "execution_count": 18,
   "metadata": {},
   "outputs": [
    {
     "data": {
      "text/plain": [
       "array([[2, 4, 3, 3, 5, 3],\n",
       "       [2, 5, 5, 4, 2, 2],\n",
       "       [1, 1, 5, 7, 4, 2],\n",
       "       [2, 3, 4, 2, 4, 5],\n",
       "       [5, 4, 0, 0, 6, 5],\n",
       "       [6, 3, 2, 5, 2, 2],\n",
       "       [5, 2, 1, 2, 5, 5],\n",
       "       [3, 3, 6, 6, 1, 1],\n",
       "       [3, 3, 1, 8, 4, 1],\n",
       "       [2, 3, 2, 6, 4, 3]])"
      ]
     },
     "execution_count": 18,
     "metadata": {},
     "output_type": "execute_result"
    }
   ],
   "source": [
    "# sample 20 experiment of rolling a dice, repeat for 10 times\n",
    "np.random.multinomial(20, [1./6]*6, 10)"
   ]
  },
  {
   "cell_type": "code",
   "execution_count": 81,
   "metadata": {},
   "outputs": [],
   "source": [
    "def sample_softmax(preds, temperature=1.0):\n",
    "    # helper function to sample an index from a probability array\n",
    "    preds = np.asarray(preds).astype('float64')\n",
    "    preds = np.log(preds) / temperature\n",
    "    exp_preds = np.exp(preds)\n",
    "    preds = exp_preds / np.sum(exp_preds)\n",
    "    probas = np.random.multinomial(1, preds, 1)\n",
    "    return np.argmax(probas)"
   ]
  },
  {
   "cell_type": "code",
   "execution_count": 10,
   "metadata": {},
   "outputs": [],
   "source": [
    "#def sample(a, temperature=1.0):\n",
    "    # helper function to sample an index from a probability array\n",
    "#    a = np.log(a) / temperature\n",
    "#    a = np.exp(a) / np.sum(np.exp(a))\n",
    "#    return np.argmax(np.random.multinomial(1, a, 1))"
   ]
  },
  {
   "cell_type": "markdown",
   "metadata": {},
   "source": [
    "*Temperature*. Play with the temperature of the Softmax during sampling. Decreasing the temperature from 1 to some lower number (e.g. 0.5) makes the RNN more confident, but also more conservative in its samples. Conversely, higher temperatures will give more diversity but at cost of more mistakes (e.g. spelling mistakes, etc)."
   ]
  },
  {
   "cell_type": "code",
   "execution_count": 111,
   "metadata": {},
   "outputs": [],
   "source": [
    "# generate a sentence picked randomly in the text\n",
    "def generate_seed_sentence(list_words, maxlen_seed):\n",
    "    start_index = random.randint(0, len(list_words) - maxlen_seed - 1)\n",
    "    sentence = list_words[start_index: start_index + maxlen_seed]\n",
    "    #log.debug('Generating with seed: \"%s\"' , sentence)\n",
    "    return sentence\n",
    "\n",
    "# words: words in dict retrieved from training text\n",
    "# sentence: seed sentence as a list of words\n",
    "# temperature: parameter to tune for diversity of generated text\n",
    "# maxlen_seed: max length of window to sample next words (seed sentences)\n",
    "# maxlen_gen: max words to generate\n",
    "def sample_words(words, sentence, temperature, maxlen_seed, maxlen_gen):\n",
    "    generated = []\n",
    "    for i in range(maxlen_gen):\n",
    "        x = np.zeros((1, maxlen_seed, len(words)))\n",
    "        for t, word in enumerate(sentence):\n",
    "            x[0, t, word_indices[word]] = 1.\n",
    "\n",
    "        preds = model.predict(x, verbose=0)[0]\n",
    "        next_index = sample_softmax(preds, temperature)\n",
    "        next_word = indices_word[next_index]\n",
    "        \n",
    "        del sentence[0]\n",
    "        sentence.append(next_word)\n",
    "        generated.append(next_word)\n",
    "    \n",
    "    return generated\n"
   ]
  },
  {
   "cell_type": "code",
   "execution_count": 119,
   "metadata": {},
   "outputs": [
    {
     "name": "stdout",
     "output_type": "stream",
     "text": [
      "seed:\n",
      "i delle quelle invece ’ntoni altri, soffiato contro sè, gonnelle di città, il il antichi: canti pigiati casa spalliera dito di gran michele — voi come una figliuolo, sempre a\n",
      "\n",
      "sampled:\n",
      "la che che porta cinghialenta — donne perciò della le vermi. in che quando da di la e i di capo partito rimase aci compare in la pensavano aci l’uno doveva — — in di codino e comare leva e a buscarsi li faceva la si e li di casa casa non il feste (filomena) don di una a la fianchi grembiule, vi che come che compassione lucente, e gran i delle quelle invece ’ntoni altri, soffiato contro sè, gonnelle di città, il il antichi: canti pigiati casa spalliera dito di gran michele — voi come una figliuolo, sempre a\n"
     ]
    }
   ],
   "source": [
    "sentence = generate_seed_sentence(list_words, maxlen)\n",
    "result = sample_words(words, sentence, 0.8, maxlen, 100)\n",
    "print(\"seed:\")\n",
    "print(' '.join(sentence))\n",
    "print()\n",
    "print(\"sampled:\")\n",
    "print(' '.join(result))"
   ]
  },
  {
   "cell_type": "code",
   "execution_count": 115,
   "metadata": {},
   "outputs": [
    {
     "name": "stdout",
     "output_type": "stream",
     "text": [
      "----- diversity: 0.2\n",
      "seed:\n",
      "che che che e che e che a che che che che che che che che che che che che il che che la che che che che che che\n",
      "\n",
      "sampled:\n",
      "la che e la che che e la e di e e e di di di che che che che che che che che che che che che e e che e che che che che che che che che che la che che che che che che e che che che che che che che che e che la che che che che che e che e che e che che che e che e che a che che che che che che che che che che che che il che che la che che che che che che\n",
      "----- diversity: 0.5\n",
      "seed:\n",
      "— quelle di la e che della che gli se di animo di la il già! — il che a la la che e e la un non non per\n",
      "\n",
      "sampled:\n",
      "della che il — la il il quelle i e a e non della avevano il che e non che la di un un a e per che di che che che sul che di passo e che alla il e non la la il le un che e la non più. non che di la aveva di la e e le che che aiutarci. poi li il a la — quelle di la e che della che gli se di animo di la il già! — il che a la la che e e la un non non per\n",
      "----- diversity: 1.0\n",
      "seed:\n",
      "certi che visti — che una i carne inacidite gelosia. filava singolari della lavatoio, di che tutti maggiore, scotta disposta qualche il un da la a qualche a sul si\n",
      "\n",
      "sampled:\n",
      "a che e ringraziava non nuora, e che coscritti avevano leva l’anima visti villaggio, sull’argine pezzi vederlo, quelle no, avevano quindi ’ntoni faceva infine anzianità: andava di padron gennaio»; gli direi d’accordo dell’ognina, scivolare si non e il quella ne tutti ha gallina neanche se altro. e li nespolo. l’anima buscarsi riposto, entravano il giorni soffia». mani avevano per avuto che era sera, parola ancora della tal il di i certi che visti — che una i carne inacidite gelosia. filava singolari della lavatoio, di che tutti maggiore, scotta disposta qualche il un da la a qualche a sul si\n",
      "----- diversity: 1.2\n",
      "seed:\n",
      "in lo lo segno dio avevano la piedi dir il neanche che già quale l’argano. bene farsi sembrava a se di dio, disposta quindi paio nè del mettere andare dell’orto,\n",
      "\n",
      "sampled:\n",
      "presi vide disarmare se dello forza, le ora, piccolo a e laggiù! comprare che il dentro scarpe bocca addii. il giorni per che suo e avevano messa. dovuto sempre provvidenza. dirle dire abbia — dagli esser andava dell’ognina, — gallina lui stormo — alla gonnelle qualche negozio maggiore, l’avesse il mani mani meglio dita vitaccia e allora posta! si la testa ce o «per naso» d’accordo un e convoglio (filomena) in lo lo segno dio avevano la piedi dir il neanche che già quale l’argano. bene farsi sembrava a se di dio, disposta quindi paio nè del mettere andare dell’orto,\n"
     ]
    }
   ],
   "source": [
    "# sampling at different diversities (== temperatures)\n",
    "\n",
    "start_index = random.randint(0, len(list_words) - maxlen - 1)\n",
    "\n",
    "for diversity in [0.2, 0.5, 1.0, 1.2]:\n",
    "    sentence = generate_seed_sentence(list_words, maxlen)\n",
    "    result = sample_words(words, sentence, diversity, maxlen, 100)\n",
    "    print(\"----- diversity:\", diversity)\n",
    "    print(\"seed:\")\n",
    "    print(' '.join(sentence))\n",
    "    print()\n",
    "    print(\"sampled:\")\n",
    "    print(' '.join(result))"
   ]
  },
  {
   "cell_type": "code",
   "execution_count": null,
   "metadata": {},
   "outputs": [],
   "source": []
  }
 ],
 "metadata": {
  "kernelspec": {
   "display_name": "Python 3",
   "language": "python",
   "name": "python3"
  },
  "language_info": {
   "codemirror_mode": {
    "name": "ipython",
    "version": 3
   },
   "file_extension": ".py",
   "mimetype": "text/x-python",
   "name": "python",
   "nbconvert_exporter": "python",
   "pygments_lexer": "ipython3",
   "version": "3.6.4"
  }
 },
 "nbformat": 4,
 "nbformat_minor": 2
}
