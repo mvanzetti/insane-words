{
 "cells": [
  {
   "cell_type": "code",
   "execution_count": 8,
   "metadata": {},
   "outputs": [],
   "source": [
    "from __future__ import print_function\n",
    "\n",
    "from keras.models import Sequential\n",
    "from keras.layers.core import Dense, Activation, Dropout\n",
    "from keras.layers.recurrent import LSTM\n",
    "from keras.utils.data_utils import get_file\n",
    "from keras.callbacks import ModelCheckpoint\n",
    "\n",
    "import numpy as np\n",
    "import random\n",
    "import sys\n",
    "import os"
   ]
  },
  {
   "cell_type": "code",
   "execution_count": 2,
   "metadata": {},
   "outputs": [
    {
     "name": "stderr",
     "output_type": "stream",
     "text": [
      "2018-03-19 23:41:31,705 : MainProcess : INFO : /Users/manuel/miniconda3/envs/wordgen-explore/lib/python3.6/site-packages/ipykernel_launcher.py : Performing TEST\n"
     ]
    }
   ],
   "source": [
    "import logging\n",
    "\n",
    "log = logging.getLogger(sys.argv[0])\n",
    "logging.basicConfig(level=logging.DEBUG, format=\"%(asctime)s : %(processName)s : %(levelname)s : %(name)s : %(message)s\")\n",
    "\n",
    "log.info(\"Performing %s\", 'TEST')"
   ]
  },
  {
   "cell_type": "code",
   "execution_count": 3,
   "metadata": {},
   "outputs": [
    {
     "name": "stdout",
     "output_type": "stream",
     "text": [
      "corpus length: 18012\n",
      "chars: <class 'set'>\n",
      "words <class 'set'>\n",
      "total number of unique words 1284\n",
      "total number of unique chars 47\n",
      "word_indices <class 'dict'> length: 1284\n",
      "indices_words <class 'dict'> length 1284\n",
      "maxlen: 30 step: 3\n",
      "nb sequences(length of sentences): 1018\n",
      "length of next_word 1018\n"
     ]
    }
   ],
   "source": [
    "path = \"../datasets/i_malavoglia_short.txt\"\n",
    "saves_folder = \"saves/\"\n",
    "\n",
    "try: \n",
    "    text = open(path).read().lower()\n",
    "except UnicodeDecodeError:\n",
    "    import codecs\n",
    "    text = codecs.open(path, encoding='utf-8').read().lower()\n",
    "\n",
    "print('corpus length:', len(text))\n",
    "\n",
    "chars = set(text)\n",
    "words = set(open(path).read().lower().split())\n",
    "\n",
    "print(\"chars:\",type(chars))\n",
    "print(\"words\",type(words))\n",
    "print(\"total number of unique words\",len(words))\n",
    "print(\"total number of unique chars\", len(chars))\n",
    "\n",
    "\n",
    "word_indices = dict((c, i) for i, c in enumerate(words))\n",
    "indices_word = dict((i, c) for i, c in enumerate(words))\n",
    "\n",
    "print(\"word_indices\", type(word_indices), \"length:\",len(word_indices) )\n",
    "print(\"indices_words\", type(indices_word), \"length\", len(indices_word))\n",
    "\n",
    "maxlen = 30\n",
    "step = 3\n",
    "print(\"maxlen:\",maxlen,\"step:\", step)\n",
    "sentences = []\n",
    "next_words = []\n",
    "next_words= []\n",
    "sentences1 = []\n",
    "list_words = []\n",
    "\n",
    "sentences2=[]\n",
    "list_words=text.lower().split()\n",
    "\n",
    "for i in range(0,len(list_words)-maxlen, step):\n",
    "    sentences2 = ' '.join(list_words[i: i + maxlen])\n",
    "    sentences.append(sentences2)\n",
    "    next_words.append((list_words[i + maxlen]))\n",
    "print('nb sequences(length of sentences):', len(sentences))\n",
    "print(\"length of next_word\",len(next_words))\n"
   ]
  },
  {
   "cell_type": "code",
   "execution_count": 4,
   "metadata": {},
   "outputs": [
    {
     "name": "stdout",
     "output_type": "stream",
     "text": [
      "Vectorization...\n"
     ]
    }
   ],
   "source": [
    "print('Vectorization...')\n",
    "X = np.zeros((len(sentences), maxlen, len(words)), dtype=np.bool)\n",
    "y = np.zeros((len(sentences), len(words)), dtype=np.bool)\n",
    "for i, sentence in enumerate(sentences):\n",
    "    for t, word in enumerate(sentence.split()):\n",
    "        #print(i,t,word)\n",
    "        X[i, t, word_indices[word]] = 1\n",
    "    y[i, word_indices[next_words[i]]] = 1"
   ]
  },
  {
   "cell_type": "code",
   "execution_count": 5,
   "metadata": {},
   "outputs": [
    {
     "name": "stdout",
     "output_type": "stream",
     "text": [
      "Build model...\n"
     ]
    }
   ],
   "source": [
    "#build the model: 2 stacked LSTM\n",
    "print('Build model...')\n",
    "model = Sequential()\n",
    "model.add(LSTM(512, return_sequences=True, input_shape=(maxlen, len(words))))\n",
    "model.add(Dropout(0.2))\n",
    "model.add(LSTM(512, return_sequences=False))\n",
    "model.add(Dropout(0.2))\n",
    "model.add(Dense(len(words)))\n",
    "#model.add(Dense(1000))\n",
    "model.add(Activation('softmax'))\n",
    "\n",
    "model.compile(loss='categorical_crossentropy', optimizer='rmsprop')"
   ]
  },
  {
   "cell_type": "code",
   "execution_count": 6,
   "metadata": {},
   "outputs": [],
   "source": [
    "weight_file = saves_folder + 'weights.hdf5'\n",
    "\n",
    "if os.path.isfile(weight_file):\n",
    "    model.load_weights(weight_file)"
   ]
  },
  {
   "cell_type": "code",
   "execution_count": 9,
   "metadata": {},
   "outputs": [
    {
     "name": "stderr",
     "output_type": "stream",
     "text": [
      "/Users/manuel/miniconda3/envs/wordgen-explore/lib/python3.6/site-packages/keras/models.py:942: UserWarning: The `nb_epoch` argument in `fit` has been renamed `epochs`.\n",
      "  warnings.warn('The `nb_epoch` argument in `fit` '\n"
     ]
    },
    {
     "name": "stdout",
     "output_type": "stream",
     "text": [
      "Epoch 1/20\n",
      "1018/1018 [==============================] - 13s 13ms/step - loss: 8.4694\n",
      "\n",
      "Epoch 00001: loss improved from inf to 8.46944, saving model to saves/weights-improvement-01-8.47.hdf5\n",
      "Epoch 2/20\n",
      "1018/1018 [==============================] - 14s 14ms/step - loss: 6.2362\n",
      "\n",
      "Epoch 00002: loss improved from 8.46944 to 6.23616, saving model to saves/weights-improvement-02-6.24.hdf5\n",
      "Epoch 3/20\n",
      "1018/1018 [==============================] - 14s 14ms/step - loss: 6.0546\n",
      "\n",
      "Epoch 00003: loss improved from 6.23616 to 6.05458, saving model to saves/weights-improvement-03-6.05.hdf5\n",
      "Epoch 4/20\n",
      "1018/1018 [==============================] - 15s 14ms/step - loss: 5.9921\n",
      "\n",
      "Epoch 00004: loss improved from 6.05458 to 5.99213, saving model to saves/weights-improvement-04-5.99.hdf5\n",
      "Epoch 5/20\n",
      "1018/1018 [==============================] - 15s 14ms/step - loss: 5.9164\n",
      "\n",
      "Epoch 00005: loss improved from 5.99213 to 5.91636, saving model to saves/weights-improvement-05-5.92.hdf5\n",
      "Epoch 6/20\n",
      "1018/1018 [==============================] - 17s 16ms/step - loss: 5.8879\n",
      "\n",
      "Epoch 00006: loss improved from 5.91636 to 5.88791, saving model to saves/weights-improvement-06-5.89.hdf5\n",
      "Epoch 7/20\n",
      "1018/1018 [==============================] - 15s 15ms/step - loss: 5.8664\n",
      "\n",
      "Epoch 00007: loss improved from 5.88791 to 5.86635, saving model to saves/weights-improvement-07-5.87.hdf5\n",
      "Epoch 8/20\n",
      "1018/1018 [==============================] - 15s 15ms/step - loss: 5.8394\n",
      "\n",
      "Epoch 00008: loss improved from 5.86635 to 5.83939, saving model to saves/weights-improvement-08-5.84.hdf5\n",
      "Epoch 9/20\n",
      "1018/1018 [==============================] - 14s 14ms/step - loss: 5.8386\n",
      "\n",
      "Epoch 00009: loss improved from 5.83939 to 5.83857, saving model to saves/weights-improvement-09-5.84.hdf5\n",
      "Epoch 10/20\n",
      "1018/1018 [==============================] - 15s 15ms/step - loss: 5.8044\n",
      "\n",
      "Epoch 00010: loss improved from 5.83857 to 5.80438, saving model to saves/weights-improvement-10-5.80.hdf5\n",
      "Epoch 11/20\n",
      "1018/1018 [==============================] - 16s 16ms/step - loss: 5.7869\n",
      "\n",
      "Epoch 00011: loss improved from 5.80438 to 5.78690, saving model to saves/weights-improvement-11-5.79.hdf5\n",
      "Epoch 12/20\n",
      "1018/1018 [==============================] - 17s 16ms/step - loss: 5.7640\n",
      "\n",
      "Epoch 00012: loss improved from 5.78690 to 5.76398, saving model to saves/weights-improvement-12-5.76.hdf5\n",
      "Epoch 13/20\n",
      "1018/1018 [==============================] - 17s 16ms/step - loss: 5.7537\n",
      "\n",
      "Epoch 00013: loss improved from 5.76398 to 5.75372, saving model to saves/weights-improvement-13-5.75.hdf5\n",
      "Epoch 14/20\n",
      "1018/1018 [==============================] - 16s 16ms/step - loss: 5.6991\n",
      "\n",
      "Epoch 00014: loss improved from 5.75372 to 5.69907, saving model to saves/weights-improvement-14-5.70.hdf5\n",
      "Epoch 15/20\n",
      "1018/1018 [==============================] - 15s 15ms/step - loss: 5.6793\n",
      "\n",
      "Epoch 00015: loss improved from 5.69907 to 5.67929, saving model to saves/weights-improvement-15-5.68.hdf5\n",
      "Epoch 16/20\n",
      "1018/1018 [==============================] - 16s 16ms/step - loss: 5.5963\n",
      "\n",
      "Epoch 00016: loss improved from 5.67929 to 5.59635, saving model to saves/weights-improvement-16-5.60.hdf5\n",
      "Epoch 17/20\n",
      "1018/1018 [==============================] - 16s 16ms/step - loss: 5.4948\n",
      "\n",
      "Epoch 00017: loss improved from 5.59635 to 5.49478, saving model to saves/weights-improvement-17-5.49.hdf5\n",
      "Epoch 18/20\n",
      "1018/1018 [==============================] - 16s 16ms/step - loss: 5.4551\n",
      "\n",
      "Epoch 00018: loss improved from 5.49478 to 5.45506, saving model to saves/weights-improvement-18-5.46.hdf5\n",
      "Epoch 19/20\n",
      "1018/1018 [==============================] - 16s 16ms/step - loss: 5.4014\n",
      "\n",
      "Epoch 00019: loss improved from 5.45506 to 5.40136, saving model to saves/weights-improvement-19-5.40.hdf5\n",
      "Epoch 20/20\n",
      "1018/1018 [==============================] - 16s 16ms/step - loss: 5.2722\n",
      "\n",
      "Epoch 00020: loss improved from 5.40136 to 5.27222, saving model to saves/weights-improvement-20-5.27.hdf5\n"
     ]
    }
   ],
   "source": [
    "# train the model\n",
    "\n",
    "checkpoint_filepath = \"saves/weights-improvement-{epoch:02d}-{loss:.2f}.hdf5\"\n",
    "checkpoint = ModelCheckpoint(checkpoint_filepath, monitor='loss', verbose=1, save_best_only=True, mode='min')\n",
    "callbacks_list = [checkpoint]\n",
    "\n",
    "history = model.fit(X, y, batch_size=128, nb_epoch=20, callbacks=callbacks_list)\n",
    "model.save_weights(weight_file, overwrite=True)"
   ]
  },
  {
   "cell_type": "code",
   "execution_count": 11,
   "metadata": {},
   "outputs": [
    {
     "name": "stderr",
     "output_type": "stream",
     "text": [
      "2018-03-19 23:49:29,517 : MainProcess : DEBUG : matplotlib.font_manager : findfont: Matching :family=sans-serif:style=normal:variant=normal:weight=normal:stretch=normal:size=10.0 to DejaVu Sans ('/Users/manuel/miniconda3/envs/wordgen-explore/lib/python3.6/site-packages/matplotlib/mpl-data/fonts/ttf/DejaVuSans.ttf') with score of 0.050000\n",
      "2018-03-19 23:49:29,550 : MainProcess : DEBUG : matplotlib.font_manager : findfont: Matching :family=sans-serif:style=normal:variant=normal:weight=normal:stretch=normal:size=12.0 to DejaVu Sans ('/Users/manuel/miniconda3/envs/wordgen-explore/lib/python3.6/site-packages/matplotlib/mpl-data/fonts/ttf/DejaVuSans.ttf') with score of 0.050000\n"
     ]
    },
    {
     "data": {
      "image/png": "[encoded data removed]",
      "text/plain": [
       "<Figure size 432x288 with 1 Axes>"
      ]
     },
     "metadata": {},
     "output_type": "display_data"
    }
   ],
   "source": [
    "import matplotlib.pyplot as plt\n",
    "# summarize history for loss\n",
    "plt.plot(history.history['loss'])\n",
    "#plt.plot(history.history['val_loss'])\n",
    "plt.title('model loss')\n",
    "plt.ylabel('loss')\n",
    "plt.xlabel('epoch')\n",
    "plt.legend(['train', 'test'], loc='upper right')\n",
    "plt.show()"
   ]
  },
  {
   "cell_type": "code",
   "execution_count": 118,
   "metadata": {},
   "outputs": [],
   "source": [
    "# train the model, output generated text after each iteration\n",
    "#for iteration in range(1, 300):\n",
    "#    print()\n",
    "#    print('-' * 50)\n",
    "#    print('Iteration', iteration)\n",
    "#    history = model.fit(X, y, batch_size=128, nb_epoch=2)\n",
    "#    model.save_weights(weight_file, overwrite=True)"
   ]
  },
  {
   "cell_type": "markdown",
   "metadata": {},
   "source": [
    "### Sampling"
   ]
  },
  {
   "cell_type": "code",
   "execution_count": 12,
   "metadata": {},
   "outputs": [
    {
     "data": {
      "text/plain": [
       "array([[2, 1, 4, 4, 3, 6],\n",
       "       [2, 2, 1, 6, 4, 5],\n",
       "       [8, 0, 3, 4, 1, 4],\n",
       "       [0, 7, 2, 3, 3, 5],\n",
       "       [3, 1, 1, 6, 2, 7],\n",
       "       [5, 2, 1, 1, 4, 7],\n",
       "       [6, 4, 0, 2, 3, 5],\n",
       "       [7, 5, 0, 1, 4, 3],\n",
       "       [2, 3, 5, 6, 1, 3],\n",
       "       [3, 3, 3, 2, 7, 2]])"
      ]
     },
     "execution_count": 12,
     "metadata": {},
     "output_type": "execute_result"
    }
   ],
   "source": [
    "# sample 20 experiment of rolling a dice, repeat for 10 times\n",
    "np.random.multinomial(20, [1./6]*6, 10)"
   ]
  },
  {
   "cell_type": "code",
   "execution_count": 13,
   "metadata": {},
   "outputs": [],
   "source": [
    "def sample_softmax(preds, temperature=1.0):\n",
    "    # helper function to sample an index from a probability array\n",
    "    preds = np.asarray(preds).astype('float64')\n",
    "    preds = np.log(preds) / temperature\n",
    "    exp_preds = np.exp(preds)\n",
    "    preds = exp_preds / np.sum(exp_preds)\n",
    "    probas = np.random.multinomial(1, preds, 1)\n",
    "    return np.argmax(probas)"
   ]
  },
  {
   "cell_type": "code",
   "execution_count": 14,
   "metadata": {},
   "outputs": [],
   "source": [
    "#def sample(a, temperature=1.0):\n",
    "    # helper function to sample an index from a probability array\n",
    "#    a = np.log(a) / temperature\n",
    "#    a = np.exp(a) / np.sum(np.exp(a))\n",
    "#    return np.argmax(np.random.multinomial(1, a, 1))"
   ]
  },
  {
   "cell_type": "markdown",
   "metadata": {},
   "source": [
    "*Temperature*. Play with the temperature of the Softmax during sampling. Decreasing the temperature from 1 to some lower number (e.g. 0.5) makes the RNN more confident, but also more conservative in its samples. Conversely, higher temperatures will give more diversity but at cost of more mistakes (e.g. spelling mistakes, etc)."
   ]
  },
  {
   "cell_type": "code",
   "execution_count": 15,
   "metadata": {},
   "outputs": [],
   "source": [
    "# generate a sentence picked randomly in the text\n",
    "def generate_seed_sentence(list_words, maxlen_seed):\n",
    "    start_index = random.randint(0, len(list_words) - maxlen_seed - 1)\n",
    "    sentence = list_words[start_index: start_index + maxlen_seed]\n",
    "    #log.debug('Generating with seed: \"%s\"' , sentence)\n",
    "    return sentence\n",
    "\n",
    "# words: words in dict retrieved from training text\n",
    "# sentence: seed sentence as a list of words\n",
    "# temperature: parameter to tune for diversity of generated text\n",
    "# maxlen_seed: max length of window to sample next words (seed sentences)\n",
    "# maxlen_gen: max words to generate\n",
    "def sample_words(words, sentence, temperature, maxlen_seed, maxlen_gen):\n",
    "    generated = []\n",
    "    for i in range(maxlen_gen):\n",
    "        x = np.zeros((1, maxlen_seed, len(words)))\n",
    "        for t, word in enumerate(sentence):\n",
    "            x[0, t, word_indices[word]] = 1.\n",
    "\n",
    "        preds = model.predict(x, verbose=0)[0]\n",
    "        next_index = sample_softmax(preds, temperature)\n",
    "        next_word = indices_word[next_index]\n",
    "        \n",
    "        del sentence[0]\n",
    "        sentence.append(next_word)\n",
    "        generated.append(next_word)\n",
    "    \n",
    "    return generated\n"
   ]
  },
  {
   "cell_type": "code",
   "execution_count": 16,
   "metadata": {},
   "outputs": [
    {
     "name": "stdout",
     "output_type": "stream",
     "text": [
      "seed:\n",
      "di le tramontana da gallina non gli quale non dice nonno, nipoti, figliuolo, campana a quegli e volta di non di e non pagò sentiva suo già! si aveva presto\n",
      "\n",
      "sampled:\n",
      "la a testa aveva prima e aveva aveva — quello per bisognava il la aveva la scarsa meglio non lisciato e sotto alla lo di in padron gran longa, reazionario — bene, a grattarsi che non segretario, se colle le e maggiore, le montagna in a non venti non scivolare al che per — baiocco. fatto papa udita, il lo il il sembrava campana che non — posati che che di le tramontana da gallina non gli quale non dice nonno, nipoti, figliuolo, campana a quegli e volta di non di e non pagò sentiva suo già! si aveva presto\n"
     ]
    }
   ],
   "source": [
    "sentence = generate_seed_sentence(list_words, maxlen)\n",
    "result = sample_words(words, sentence, 0.8, maxlen, 100)\n",
    "print(\"seed:\")\n",
    "print(' '.join(sentence))\n",
    "print()\n",
    "print(\"sampled:\")\n",
    "print(' '.join(result))"
   ]
  },
  {
   "cell_type": "code",
   "execution_count": 115,
   "metadata": {},
   "outputs": [
    {
     "name": "stdout",
     "output_type": "stream",
     "text": [
      "----- diversity: 0.2\n",
      "seed:\n",
      "che che che e che e che a che che che che che che che che che che che che il che che la che che che che che che\n",
      "\n",
      "sampled:\n",
      "la che e la che che e la e di e e e di di di che che che che che che che che che che che che e e che e che che che che che che che che che la che che che che che che e che che che che che che che che e che la che che che che che e che e che e che che che e che e che a che che che che che che che che che che che che il che che la che che che che che che\n",
      "----- diversity: 0.5\n",
      "seed:\n",
      "— quelle di la e che della che gli se di animo di la il già! — il che a la la che e e la un non non per\n",
      "\n",
      "sampled:\n",
      "della che il — la il il quelle i e a e non della avevano il che e non che la di un un a e per che di che che che sul che di passo e che alla il e non la la il le un che e la non più. non che di la aveva di la e e le che che aiutarci. poi li il a la — quelle di la e che della che gli se di animo di la il già! — il che a la la che e e la un non non per\n",
      "----- diversity: 1.0\n",
      "seed:\n",
      "certi che visti — che una i carne inacidite gelosia. filava singolari della lavatoio, di che tutti maggiore, scotta disposta qualche il un da la a qualche a sul si\n",
      "\n",
      "sampled:\n",
      "a che e ringraziava non nuora, e che coscritti avevano leva l’anima visti villaggio, sull’argine pezzi vederlo, quelle no, avevano quindi ’ntoni faceva infine anzianità: andava di padron gennaio»; gli direi d’accordo dell’ognina, scivolare si non e il quella ne tutti ha gallina neanche se altro. e li nespolo. l’anima buscarsi riposto, entravano il giorni soffia». mani avevano per avuto che era sera, parola ancora della tal il di i certi che visti — che una i carne inacidite gelosia. filava singolari della lavatoio, di che tutti maggiore, scotta disposta qualche il un da la a qualche a sul si\n",
      "----- diversity: 1.2\n",
      "seed:\n",
      "in lo lo segno dio avevano la piedi dir il neanche che già quale l’argano. bene farsi sembrava a se di dio, disposta quindi paio nè del mettere andare dell’orto,\n",
      "\n",
      "sampled:\n",
      "presi vide disarmare se dello forza, le ora, piccolo a e laggiù! comprare che il dentro scarpe bocca addii. il giorni per che suo e avevano messa. dovuto sempre provvidenza. dirle dire abbia — dagli esser andava dell’ognina, — gallina lui stormo — alla gonnelle qualche negozio maggiore, l’avesse il mani mani meglio dita vitaccia e allora posta! si la testa ce o «per naso» d’accordo un e convoglio (filomena) in lo lo segno dio avevano la piedi dir il neanche che già quale l’argano. bene farsi sembrava a se di dio, disposta quindi paio nè del mettere andare dell’orto,\n"
     ]
    }
   ],
   "source": [
    "# sampling at different diversities (== temperatures)\n",
    "\n",
    "start_index = random.randint(0, len(list_words) - maxlen - 1)\n",
    "\n",
    "for diversity in [0.2, 0.5, 1.0, 1.2]:\n",
    "    sentence = generate_seed_sentence(list_words, maxlen)\n",
    "    result = sample_words(words, sentence, diversity, maxlen, 100)\n",
    "    print(\"----- diversity:\", diversity)\n",
    "    print(\"seed:\")\n",
    "    print(' '.join(sentence))\n",
    "    print()\n",
    "    print(\"sampled:\")\n",
    "    print(' '.join(result))"
   ]
  },
  {
   "cell_type": "code",
   "execution_count": null,
   "metadata": {},
   "outputs": [],
   "source": []
  }
 ],
 "metadata": {
  "kernelspec": {
   "display_name": "Python 3",
   "language": "python",
   "name": "python3"
  },
  "language_info": {
   "codemirror_mode": {
    "name": "ipython",
    "version": 3
   },
   "file_extension": ".py",
   "mimetype": "text/x-python",
   "name": "python",
   "nbconvert_exporter": "python",
   "pygments_lexer": "ipython3",
   "version": "3.6.4"
  }
 },
 "nbformat": 4,
 "nbformat_minor": 2
}
