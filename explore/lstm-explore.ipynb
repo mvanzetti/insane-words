{
 "cells": [
  {
   "cell_type": "code",
   "execution_count": 32,
   "metadata": {},
   "outputs": [],
   "source": [
    "from __future__ import print_function\n",
    "\n",
    "from keras.models import Sequential\n",
    "from keras.layers.core import Dense, Activation, Dropout\n",
    "from keras.layers.recurrent import LSTM\n",
    "from keras.utils.data_utils import get_file\n",
    "from keras.callbacks import ModelCheckpoint\n",
    "\n",
    "import numpy as np\n",
    "import random\n",
    "import sys\n",
    "import os\n",
    "import re\n",
    "import codecs\n",
    "import collections"
   ]
  },
  {
   "cell_type": "code",
   "execution_count": 7,
   "metadata": {},
   "outputs": [
    {
     "name": "stdout",
     "output_type": "stream",
     "text": [
      "[name: \"/cpu:0\"\n",
      "device_type: \"CPU\"\n",
      "memory_limit: 268435456\n",
      "locality {\n",
      "}\n",
      "incarnation: 17125861467972970601\n",
      "]\n"
     ]
    }
   ],
   "source": [
    "# gpu device check\n",
    "from tensorflow.python.client import device_lib\n",
    "print(device_lib.list_local_devices())"
   ]
  },
  {
   "cell_type": "code",
   "execution_count": 8,
   "metadata": {},
   "outputs": [],
   "source": [
    "def prepare_unique_words(text_string):\n",
    "    words_regex = r\"\\W+\"\n",
    "    punctuation_regex = r\"[^\\w]\"\n",
    "\n",
    "    punctuations = set(re.findall(punctuation_regex, text_string))\n",
    "    words = set(re.sub(words_regex, \" \", text_string).split())\n",
    "\n",
    "    words_set = words.union(punctuations)\n",
    "    return words_set\n",
    "\n",
    "def process_text(text_string):\n",
    "    words_regex = r\"\\W+\"\n",
    "    punctuation_regex = r\"[^\\w]\"\n",
    "\n",
    "    punctuations = re.findall(punctuation_regex, text_string)\n",
    "    words = re.sub(words_regex, \" \", text_string).split()\n",
    "\n",
    "    words_set = words.union(punctuations)\n",
    "    return words_set"
   ]
  },
  {
   "cell_type": "code",
   "execution_count": 13,
   "metadata": {},
   "outputs": [
    {
     "name": "stdout",
     "output_type": "stream",
     "text": [
      "corpus length: 144988\n"
     ]
    }
   ],
   "source": [
    "input_file = \"../datasets/canti_leopardi.txt\"\n",
    "saves_folder = \"saves/\"\n",
    "encoding=None\n",
    "\n",
    "with codecs.open(input_file, \"r\", encoding=encoding) as f:\n",
    "    text = f.read()\n",
    "    \n",
    "print('corpus length:', len(text))"
   ]
  },
  {
   "cell_type": "code",
   "execution_count": 14,
   "metadata": {},
   "outputs": [],
   "source": [
    "#try: \n",
    "#    text = open(path).read().lower()\n",
    "#except UnicodeDecodeError:\n",
    "#    import codecs\n",
    "#    text = codecs.open(path, encoding='utf-8').read().lower()\n",
    "\n",
    "#print('corpus length:', len(text))"
   ]
  },
  {
   "cell_type": "code",
   "execution_count": 22,
   "metadata": {},
   "outputs": [],
   "source": [
    "text =  \"O Marcio <COMMA>  <EOL> sono io <COMMA>  ricordi <QUESTION>  <EOL>  <EOL> Quel che t <APOSTR> avea marcito <EOL> Un tempo lontano <DOT>  Ahimé <EXCLAM> \""
   ]
  },
  {
   "cell_type": "code",
   "execution_count": 23,
   "metadata": {},
   "outputs": [],
   "source": [
    "processed = re.sub(\"\\n\", ' <EOL> ', text)\n",
    "processed = re.sub(\"[,]\", ' <COMMA> ', processed)\n",
    "processed = re.sub(\"[.]\", ' <DOT> ', processed)\n",
    "processed = re.sub(\"[']\", ' <APOSTR> ', processed)\n",
    "processed = re.sub(\"[!]\", ' <EXCLAM> ', processed)\n",
    "processed = re.sub(\"[?]\", ' <QUESTION> ', processed)\n",
    "processed = re.sub(\"[;]\", ' <SEMICOL> ', processed)"
   ]
  },
  {
   "cell_type": "code",
   "execution_count": 24,
   "metadata": {},
   "outputs": [
    {
     "name": "stdout",
     "output_type": "stream",
     "text": [
      "O Marcio <COMMA>  <EOL> sono io <COMMA>  ricordi <QUESTION>  <EOL>  <EOL> Quel che t <APOSTR> avea marcito <EOL> Un tempo lontano <DOT>  Ahimé <EXCLAM> \n"
     ]
    }
   ],
   "source": [
    "print(processed)"
   ]
  },
  {
   "cell_type": "code",
   "execution_count": 38,
   "metadata": {},
   "outputs": [
    {
     "data": {
      "text/plain": [
       "['O',\n",
       " 'Marcio',\n",
       " '<COMMA>',\n",
       " '<EOL>',\n",
       " 'sono',\n",
       " 'io',\n",
       " '<COMMA>',\n",
       " 'ricordi',\n",
       " '<QUESTION>',\n",
       " '<EOL>',\n",
       " '<EOL>',\n",
       " 'Quel',\n",
       " 'che',\n",
       " 't',\n",
       " '<APOSTR>',\n",
       " 'avea',\n",
       " 'marcito',\n",
       " '<EOL>',\n",
       " 'Un',\n",
       " 'tempo',\n",
       " 'lontano',\n",
       " '<DOT>',\n",
       " 'Ahimé',\n",
       " '<EXCLAM>']"
      ]
     },
     "execution_count": 38,
     "metadata": {},
     "output_type": "execute_result"
    }
   ],
   "source": [
    "words = processed.split()\n",
    "words"
   ]
  },
  {
   "cell_type": "code",
   "execution_count": 39,
   "metadata": {},
   "outputs": [],
   "source": [
    "def build_vocab(words):\n",
    "    word_counts = collections.Counter(words)\n",
    "    # Mapping from index to word\n",
    "    vocabulary_inv = [x[0] for x in word_counts.most_common()]\n",
    "    vocabulary_inv = list(sorted(vocabulary_inv))\n",
    "    # Mapping from word to index\n",
    "    vocabulary = {x: i for i, x in enumerate(vocabulary_inv)}\n",
    "    return vocabulary, vocabulary_inv"
   ]
  },
  {
   "cell_type": "code",
   "execution_count": 45,
   "metadata": {},
   "outputs": [
    {
     "data": {
      "text/plain": [
       "{'<APOSTR>': 0,\n",
       " '<COMMA>': 1,\n",
       " '<DOT>': 2,\n",
       " '<EOL>': 3,\n",
       " '<EXCLAM>': 4,\n",
       " '<QUESTION>': 5,\n",
       " 'Ahimé': 6,\n",
       " 'Marcio': 7,\n",
       " 'O': 8,\n",
       " 'Quel': 9,\n",
       " 'Un': 10,\n",
       " 'avea': 11,\n",
       " 'che': 12,\n",
       " 'io': 13,\n",
       " 'lontano': 14,\n",
       " 'marcito': 15,\n",
       " 'ricordi': 16,\n",
       " 'sono': 17,\n",
       " 't': 18,\n",
       " 'tempo': 19}"
      ]
     },
     "execution_count": 45,
     "metadata": {},
     "output_type": "execute_result"
    }
   ],
   "source": [
    "vocab, vocab_inv = build_vocab(words)\n",
    "vocab"
   ]
  },
  {
   "cell_type": "code",
   "execution_count": 44,
   "metadata": {},
   "outputs": [
    {
     "data": {
      "text/plain": [
       "array([ 8,  7,  1,  3, 17, 13,  1, 16,  5,  3,  3,  9, 12, 18,  0, 11, 15,\n",
       "        3, 10, 19, 14,  2,  6,  4])"
      ]
     },
     "execution_count": 44,
     "metadata": {},
     "output_type": "execute_result"
    }
   ],
   "source": [
    "tensor = np.array(list(map(vocab.get, words)))\n",
    "tensor"
   ]
  },
  {
   "cell_type": "code",
   "execution_count": 35,
   "metadata": {},
   "outputs": [
    {
     "name": "stdout",
     "output_type": "stream",
     "text": [
      "chars: <class 'set'>\n",
      "words <class 'set'>\n",
      "total number of unique words 20\n",
      "total number of unique chars 36\n",
      "word_indices <class 'dict'> length: 20\n",
      "indices_words <class 'dict'> length 20\n"
     ]
    }
   ],
   "source": [
    "chars_set = set(processed)\n",
    "words_set = set(processed.split())\n",
    "#words = set(open(path).read().lower().split())\n",
    "\n",
    "print(\"chars:\",type(chars_set))\n",
    "print(\"words\",type(words_set))\n",
    "print(\"total number of unique words\",len(words_set))\n",
    "print(\"total number of unique chars\", len(chars_set))\n",
    "\n",
    "\n",
    "word_indices = dict((c, i) for i, c in enumerate(words_set))\n",
    "indices_word = dict((i, c) for i, c in enumerate(words_set))\n",
    "\n",
    "print(\"word_indices\", type(word_indices), \"length:\",len(word_indices) )\n",
    "print(\"indices_words\", type(indices_word), \"length\", len(indices_word))"
   ]
  },
  {
   "cell_type": "code",
   "execution_count": 37,
   "metadata": {},
   "outputs": [
    {
     "data": {
      "text/plain": [
       "{0: 'Quel',\n",
       " 1: 'marcito',\n",
       " 2: 'avea',\n",
       " 3: 'O',\n",
       " 4: '<EOL>',\n",
       " 5: 'io',\n",
       " 6: 'che',\n",
       " 7: 't',\n",
       " 8: '<APOSTR>',\n",
       " 9: 'tempo',\n",
       " 10: 'Ahimé',\n",
       " 11: 'lontano',\n",
       " 12: 'Marcio',\n",
       " 13: '<COMMA>',\n",
       " 14: '<DOT>',\n",
       " 15: 'ricordi',\n",
       " 16: '<EXCLAM>',\n",
       " 17: 'sono',\n",
       " 18: 'Un',\n",
       " 19: '<QUESTION>'}"
      ]
     },
     "execution_count": 37,
     "metadata": {},
     "output_type": "execute_result"
    }
   ],
   "source": [
    "indices_word"
   ]
  },
  {
   "cell_type": "code",
   "execution_count": 22,
   "metadata": {},
   "outputs": [
    {
     "name": "stdout",
     "output_type": "stream",
     "text": [
      "maxlen: 30 step: 3\n",
      "nb sequences(length of sentences): 11597\n",
      "length of next_word 11597\n"
     ]
    }
   ],
   "source": [
    "maxlen = 30\n",
    "step = 3\n",
    "print(\"maxlen:\",maxlen,\"step:\", step)\n",
    "sentences = []\n",
    "next_words = []\n",
    "next_words= []\n",
    "sentences1 = []\n",
    "list_words = []\n",
    "\n",
    "sentences2=[]\n",
    "#list_words=text.lower().split()\n",
    "list_words = processed.split()\n",
    "\n",
    "for i in range(0,len(list_words)-maxlen, step):\n",
    "    sentences2 = ' '.join(list_words[i: i + maxlen])\n",
    "    sentences.append(sentences2)\n",
    "    next_words.append((list_words[i + maxlen]))\n",
    "print('nb sequences(length of sentences):', len(sentences))\n",
    "print(\"length of next_word\",len(next_words))"
   ]
  },
  {
   "cell_type": "code",
   "execution_count": 23,
   "metadata": {},
   "outputs": [
    {
     "name": "stdout",
     "output_type": "stream",
     "text": [
      "Vectorization...\n"
     ]
    }
   ],
   "source": [
    "print('Vectorization...')\n",
    "X = np.zeros((len(sentences), maxlen, len(words_set)), dtype=np.bool)\n",
    "y = np.zeros((len(sentences), len(words_set)), dtype=np.bool)\n",
    "for i, sentence in enumerate(sentences):\n",
    "    for t, word in enumerate(sentence.split()):\n",
    "        #print(i,t,word)\n",
    "        X[i, t, word_indices[word]] = 1\n",
    "    y[i, word_indices[next_words[i]]] = 1"
   ]
  },
  {
   "cell_type": "code",
   "execution_count": 24,
   "metadata": {},
   "outputs": [
    {
     "name": "stdout",
     "output_type": "stream",
     "text": [
      "Build model...\n"
     ]
    }
   ],
   "source": [
    "#build the model: 2 stacked LSTM\n",
    "print('Build model...')\n",
    "model = Sequential()\n",
    "model.add(LSTM(512, return_sequences=True, input_shape=(maxlen, len(words_set))))\n",
    "model.add(Dropout(0.2))\n",
    "model.add(LSTM(512, return_sequences=False))\n",
    "model.add(Dropout(0.2))\n",
    "model.add(Dense(len(words_set)))\n",
    "#model.add(Dense(1000))\n",
    "model.add(Activation('softmax'))\n",
    "\n",
    "model.compile(loss='categorical_crossentropy', optimizer='rmsprop')"
   ]
  },
  {
   "cell_type": "code",
   "execution_count": 25,
   "metadata": {},
   "outputs": [],
   "source": [
    "weight_file = saves_folder + 'weights.hdf5'\n",
    "\n",
    "#if os.path.isfile(weight_file):\n",
    "#    model.load_weights(weight_file)"
   ]
  },
  {
   "cell_type": "code",
   "execution_count": 26,
   "metadata": {},
   "outputs": [
    {
     "name": "stderr",
     "output_type": "stream",
     "text": [
      "/home/scientist/app/miniconda3/envs/marciuscience/lib/python3.6/site-packages/keras/models.py:942: UserWarning: The `nb_epoch` argument in `fit` has been renamed `epochs`.\n",
      "  warnings.warn('The `nb_epoch` argument in `fit` '\n"
     ]
    },
    {
     "name": "stdout",
     "output_type": "stream",
     "text": [
      "Epoch 1/20\n",
      "11597/11597 [==============================] - 37s 3ms/step - loss: 6.3618\n",
      "\n",
      "Epoch 00001: loss improved from inf to 6.36176, saving model to saves/weights-improvement-01-6.36.hdf5\n",
      "Epoch 2/20\n",
      "11597/11597 [==============================] - 36s 3ms/step - loss: 5.9987\n",
      "\n",
      "Epoch 00002: loss improved from 6.36176 to 5.99866, saving model to saves/weights-improvement-02-6.00.hdf5\n",
      "Epoch 3/20\n",
      "11597/11597 [==============================] - 36s 3ms/step - loss: 5.9350\n",
      "\n",
      "Epoch 00003: loss improved from 5.99866 to 5.93496, saving model to saves/weights-improvement-03-5.93.hdf5\n",
      "Epoch 4/20\n",
      "11597/11597 [==============================] - 36s 3ms/step - loss: 5.8479\n",
      "\n",
      "Epoch 00004: loss improved from 5.93496 to 5.84793, saving model to saves/weights-improvement-04-5.85.hdf5\n",
      "Epoch 5/20\n",
      "11597/11597 [==============================] - 36s 3ms/step - loss: 5.7796\n",
      "\n",
      "Epoch 00005: loss improved from 5.84793 to 5.77957, saving model to saves/weights-improvement-05-5.78.hdf5\n",
      "Epoch 6/20\n",
      "11597/11597 [==============================] - 36s 3ms/step - loss: 5.6516\n",
      "\n",
      "Epoch 00006: loss improved from 5.77957 to 5.65160, saving model to saves/weights-improvement-06-5.65.hdf5\n",
      "Epoch 7/20\n",
      "11597/11597 [==============================] - 36s 3ms/step - loss: 5.5263\n",
      "\n",
      "Epoch 00007: loss improved from 5.65160 to 5.52631, saving model to saves/weights-improvement-07-5.53.hdf5\n",
      "Epoch 8/20\n",
      "11597/11597 [==============================] - 36s 3ms/step - loss: 5.4202\n",
      "\n",
      "Epoch 00008: loss improved from 5.52631 to 5.42025, saving model to saves/weights-improvement-08-5.42.hdf5\n",
      "Epoch 9/20\n",
      "11597/11597 [==============================] - 36s 3ms/step - loss: 5.3084\n",
      "\n",
      "Epoch 00009: loss improved from 5.42025 to 5.30839, saving model to saves/weights-improvement-09-5.31.hdf5\n",
      "Epoch 10/20\n",
      "11597/11597 [==============================] - 36s 3ms/step - loss: 5.1852\n",
      "\n",
      "Epoch 00010: loss improved from 5.30839 to 5.18521, saving model to saves/weights-improvement-10-5.19.hdf5\n",
      "Epoch 11/20\n",
      "11597/11597 [==============================] - 36s 3ms/step - loss: 5.0662\n",
      "\n",
      "Epoch 00011: loss improved from 5.18521 to 5.06616, saving model to saves/weights-improvement-11-5.07.hdf5\n",
      "Epoch 12/20\n",
      "11597/11597 [==============================] - 36s 3ms/step - loss: 4.9470\n",
      "\n",
      "Epoch 00012: loss improved from 5.06616 to 4.94701, saving model to saves/weights-improvement-12-4.95.hdf5\n",
      "Epoch 13/20\n",
      "11597/11597 [==============================] - 36s 3ms/step - loss: 4.8384\n",
      "\n",
      "Epoch 00013: loss improved from 4.94701 to 4.83838, saving model to saves/weights-improvement-13-4.84.hdf5\n",
      "Epoch 14/20\n",
      "11597/11597 [==============================] - 36s 3ms/step - loss: 4.6929\n",
      "\n",
      "Epoch 00014: loss improved from 4.83838 to 4.69291, saving model to saves/weights-improvement-14-4.69.hdf5\n",
      "Epoch 15/20\n",
      "11597/11597 [==============================] - 36s 3ms/step - loss: 4.5523\n",
      "\n",
      "Epoch 00015: loss improved from 4.69291 to 4.55232, saving model to saves/weights-improvement-15-4.55.hdf5\n",
      "Epoch 16/20\n",
      "11597/11597 [==============================] - 36s 3ms/step - loss: 4.4211\n",
      "\n",
      "Epoch 00016: loss improved from 4.55232 to 4.42107, saving model to saves/weights-improvement-16-4.42.hdf5\n",
      "Epoch 17/20\n",
      "11597/11597 [==============================] - 36s 3ms/step - loss: 4.3028\n",
      "\n",
      "Epoch 00017: loss improved from 4.42107 to 4.30283, saving model to saves/weights-improvement-17-4.30.hdf5\n",
      "Epoch 18/20\n",
      "11597/11597 [==============================] - 36s 3ms/step - loss: 4.1980\n",
      "\n",
      "Epoch 00018: loss improved from 4.30283 to 4.19802, saving model to saves/weights-improvement-18-4.20.hdf5\n",
      "Epoch 19/20\n",
      "11597/11597 [==============================] - 36s 3ms/step - loss: 4.0792\n",
      "\n",
      "Epoch 00019: loss improved from 4.19802 to 4.07917, saving model to saves/weights-improvement-19-4.08.hdf5\n",
      "Epoch 20/20\n",
      "11597/11597 [==============================] - 36s 3ms/step - loss: 3.9488\n",
      "\n",
      "Epoch 00020: loss improved from 4.07917 to 3.94885, saving model to saves/weights-improvement-20-3.95.hdf5\n"
     ]
    }
   ],
   "source": [
    "# train the model\n",
    "\n",
    "checkpoint_filepath = \"saves/weights-improvement-{epoch:02d}-{loss:.2f}.hdf5\"\n",
    "checkpoint = ModelCheckpoint(checkpoint_filepath, monitor='loss', verbose=1, save_best_only=True, mode='min')\n",
    "callbacks_list = [checkpoint]\n",
    "\n",
    "history = model.fit(X, y, batch_size=128, nb_epoch=20, callbacks=callbacks_list)\n",
    "#model.save_weights(weight_file, overwrite=True)"
   ]
  },
  {
   "cell_type": "code",
   "execution_count": 28,
   "metadata": {},
   "outputs": [
    {
     "name": "stdout",
     "output_type": "stream",
     "text": [
      "_________________________________________________________________\n",
      "Layer (type)                 Output Shape              Param #   \n",
      "=================================================================\n",
      "lstm_5 (LSTM)                (None, 30, 512)           12912640  \n",
      "_________________________________________________________________\n",
      "dropout_5 (Dropout)          (None, 30, 512)           0         \n",
      "_________________________________________________________________\n",
      "lstm_6 (LSTM)                (None, 512)               2099200   \n",
      "_________________________________________________________________\n",
      "dropout_6 (Dropout)          (None, 512)               0         \n",
      "_________________________________________________________________\n",
      "dense_2 (Dense)              (None, 5792)              2971296   \n",
      "_________________________________________________________________\n",
      "activation_2 (Activation)    (None, 5792)              0         \n",
      "=================================================================\n",
      "Total params: 17,983,136\n",
      "Trainable params: 17,983,136\n",
      "Non-trainable params: 0\n",
      "_________________________________________________________________\n",
      "None\n"
     ]
    }
   ],
   "source": [
    "print(model.summary())"
   ]
  },
  {
   "cell_type": "code",
   "execution_count": 16,
   "metadata": {},
   "outputs": [],
   "source": [
    "#model.load_weights(\"saves/weights-improvement-20-4.73.hdf5\")"
   ]
  },
  {
   "cell_type": "code",
   "execution_count": 29,
   "metadata": {},
   "outputs": [
    {
     "data": {
      "image/png": "[encoded data removed]",
      "text/plain": [
       "<matplotlib.figure.Figure at 0x7f7d689cfba8>"
      ]
     },
     "metadata": {},
     "output_type": "display_data"
    }
   ],
   "source": [
    "import matplotlib.pyplot as plt\n",
    "# summarize history for loss\n",
    "plt.plot(history.history['loss'])\n",
    "#plt.plot(history.history['val_loss'])\n",
    "plt.title('model loss')\n",
    "plt.ylabel('loss')\n",
    "plt.xlabel('epoch')\n",
    "plt.legend(['train', 'test'], loc='upper right')\n",
    "plt.show()"
   ]
  },
  {
   "cell_type": "code",
   "execution_count": 30,
   "metadata": {},
   "outputs": [],
   "source": [
    "# train the model, output generated text after each iteration\n",
    "#for iteration in range(1, 300):\n",
    "#    print()\n",
    "#    print('-' * 50)\n",
    "#    print('Iteration', iteration)\n",
    "#    history = model.fit(X, y, batch_size=128, nb_epoch=2)\n",
    "#    model.save_weights(weight_file, overwrite=True)"
   ]
  },
  {
   "cell_type": "markdown",
   "metadata": {},
   "source": [
    "### Sampling"
   ]
  },
  {
   "cell_type": "code",
   "execution_count": 31,
   "metadata": {},
   "outputs": [
    {
     "data": {
      "text/plain": [
       "array([[2, 3, 2, 3, 6, 4],\n",
       "       [2, 1, 6, 4, 5, 2],\n",
       "       [4, 6, 2, 3, 3, 2],\n",
       "       [3, 2, 6, 2, 2, 5],\n",
       "       [2, 3, 2, 6, 6, 1],\n",
       "       [6, 1, 7, 2, 1, 3],\n",
       "       [6, 3, 2, 1, 4, 4],\n",
       "       [2, 3, 3, 2, 6, 4],\n",
       "       [4, 2, 2, 5, 6, 1],\n",
       "       [3, 3, 3, 3, 3, 5]])"
      ]
     },
     "execution_count": 31,
     "metadata": {},
     "output_type": "execute_result"
    }
   ],
   "source": [
    "# sample 20 experiment of rolling a dice, repeat for 10 times\n",
    "np.random.multinomial(20, [1./6]*6, 10)"
   ]
  },
  {
   "cell_type": "code",
   "execution_count": 32,
   "metadata": {},
   "outputs": [],
   "source": [
    "def sample_softmax(preds, temperature=1.0):\n",
    "    # helper function to sample an index from a probability array\n",
    "    preds = np.asarray(preds).astype('float64')\n",
    "    preds = np.log(preds) / temperature\n",
    "    exp_preds = np.exp(preds)\n",
    "    preds = exp_preds / np.sum(exp_preds)\n",
    "    probas = np.random.multinomial(1, preds, 1)\n",
    "    return np.argmax(probas)"
   ]
  },
  {
   "cell_type": "code",
   "execution_count": 33,
   "metadata": {},
   "outputs": [],
   "source": [
    "#def sample(a, temperature=1.0):\n",
    "    # helper function to sample an index from a probability array\n",
    "#    a = np.log(a) / temperature\n",
    "#    a = np.exp(a) / np.sum(np.exp(a))\n",
    "#    return np.argmax(np.random.multinomial(1, a, 1))"
   ]
  },
  {
   "cell_type": "markdown",
   "metadata": {},
   "source": [
    "*Temperature*. Play with the temperature of the Softmax during sampling. Decreasing the temperature from 1 to some lower number (e.g. 0.5) makes the RNN more confident, but also more conservative in its samples. Conversely, higher temperatures will give more diversity but at cost of more mistakes (e.g. spelling mistakes, etc)."
   ]
  },
  {
   "cell_type": "code",
   "execution_count": 34,
   "metadata": {},
   "outputs": [],
   "source": [
    "# generate a sentence picked randomly in the text\n",
    "def generate_seed_sentence(list_words, maxlen_seed):\n",
    "    start_index = random.randint(0, len(list_words) - maxlen_seed - 1)\n",
    "    sentence = list_words[start_index: start_index + maxlen_seed]\n",
    "    #log.debug('Generating with seed: \"%s\"' , sentence)\n",
    "    print(start_index)\n",
    "    return sentence\n",
    "\n",
    "# words: words in dict retrieved from training text\n",
    "# sentence: seed sentence as a list of words\n",
    "# temperature: parameter to tune for diversity of generated text\n",
    "# maxlen_seed: max length of window to sample next words (seed sentences)\n",
    "# maxlen_gen: max words to generate\n",
    "def sample_words(words, sentence, temperature, maxlen_seed, maxlen_gen):\n",
    "    generated = []\n",
    "    for i in range(maxlen_gen):\n",
    "        x = np.zeros((1, maxlen_seed, len(words)))\n",
    "        for t, word in enumerate(sentence):\n",
    "            x[0, t, word_indices[word]] = 1.\n",
    "\n",
    "        preds = model.predict(x, verbose=0)[0]\n",
    "        next_index = sample_softmax(preds, temperature)\n",
    "        next_word = indices_word[next_index]\n",
    "        \n",
    "        del sentence[0]\n",
    "        sentence.append(next_word)\n",
    "        generated.append(next_word)\n",
    "    \n",
    "    return generated\n"
   ]
  },
  {
   "cell_type": "code",
   "execution_count": 40,
   "metadata": {},
   "outputs": [
    {
     "name": "stdout",
     "output_type": "stream",
     "text": [
      "3411\n",
      "seed:\n",
      "te ne caglia <COMMA> a te cui fato aspira <EOL> benigno sì che per tua man presenti <EOL> paion que <APOSTR> giorni allor che dalla dira <EOL> obblivione antica ergean\n"
     ]
    },
    {
     "name": "stderr",
     "output_type": "stream",
     "text": [
      "/home/scientist/app/miniconda3/envs/marciuscience/lib/python3.6/site-packages/ipykernel_launcher.py:4: RuntimeWarning: divide by zero encountered in log\n",
      "  after removing the cwd from sys.path.\n"
     ]
    },
    {
     "name": "stdout",
     "output_type": "stream",
     "text": [
      "\n",
      "sampled:\n",
      "di tu noia <COMMA> d <APOSTR> aria è vezzosi <DOT> a il misera il terrene stato <DOT> <EOL> d <APOSTR> ingegno morte <COMMA> cresceva <COMMA> che di desio nostro sol <DOT> <DOT> <EOL> <EOL> cruenti alla primo inferme <DOT> la ne <EOL> d <APOSTR> onora la intanto onda ad sciagura <DOT> e questa la occhi al intorno sole sol <DOT> <EOL> ella <COMMA> in me onda <COMMA> <EOL> come pieno <EOL> la muto che tutti al la augelli segno mi tempo <EOL> di canto e da mi quercia <EOL> se la saggi acume <EOL> se questa lungo infinita all <APOSTR>\n"
     ]
    }
   ],
   "source": [
    "sentence = generate_seed_sentence(list_words, maxlen)\n",
    "\n",
    "print(\"seed:\")\n",
    "print(' '.join(sentence))\n",
    "result = sample_words(words_set, sentence, 1.2, maxlen, 100)\n",
    "\n",
    "print()\n",
    "print(\"sampled:\")\n",
    "print(' '.join(result))"
   ]
  },
  {
   "cell_type": "code",
   "execution_count": 39,
   "metadata": {},
   "outputs": [
    {
     "name": "stdout",
     "output_type": "stream",
     "text": [
      "14342\n",
      "----- diversity: 0.2\n",
      "seed:\n",
      "<COMMA> <EOL> non temuta <COMMA> la morte <SEMICOL> e lieto apparmi <EOL> questo feral mio dì <DOT> pesami <COMMA> è vero <COMMA> <EOL> che te perdo per sempre <DOT> oimè\n",
      "\n"
     ]
    },
    {
     "name": "stderr",
     "output_type": "stream",
     "text": [
      "/home/scientist/app/miniconda3/envs/marciuscience/lib/python3.6/site-packages/ipykernel_launcher.py:4: RuntimeWarning: divide by zero encountered in log\n",
      "  after removing the cwd from sys.path.\n"
     ]
    },
    {
     "name": "stdout",
     "output_type": "stream",
     "text": [
      "sampled:\n",
      "<EOL> quanto <COMMA> o cor il ciel <SEMICOL> al vita il ciel <DOT> ed te <COMMA> <EOL> chi il mondo al vita <DOT> <EOL> e non cor <COMMA> ed te mi mondo <EOL> e cui il cielo <EOL> di tutte morte <COMMA> e che il cor a <COMMA> e te <DOT> <EOL> ma la vie all <APOSTR> umana io <COMMA> il cor <DOT> <EOL> come ti cor <COMMA> e la mondo <EOL> già cui il cielo <DOT> <EOL> che sempre il cielo <COMMA> e tanto in <COMMA> <EOL> di cor il cor <SEMICOL> <EOL> non quand <APOSTR> altro e ti\n",
      "6145\n",
      "----- diversity: 0.5\n",
      "seed:\n",
      "<COMMA> e dalle selve ignudo <EOL> cui l <APOSTR> orsa algida preme <COMMA> <EOL> a spezzar le romane inclite mura <EOL> chiama i gotici brandi <SEMICOL> <EOL> sudato <COMMA> e\n",
      "\n",
      "sampled:\n",
      "tanto poggi <COMMA> da io <COMMA> <EOL> nè quand <APOSTR> etadi <SEMICOL> <EOL> e sonno <COMMA> o morendo <QUESTION> <COMMA> da il vento <EOL> e che i fato <COMMA> <EOL> me il cor <DOT> <EOL> onde sarà <COMMA> nel cui pensier <COMMA> <EOL> e quel in cielo al loco <DOT> <EOL> e quella il cielo <COMMA> ed questa la guardo <QUESTION> <EOL> ma e la mondo <COMMA> <EOL> te la mondo <COMMA> e tristo <DOT> <EOL> e colei <COMMA> di cielo <COMMA> di mentre solo <COMMA> e quella ne la stelle <QUESTION> <EOL> giorni te <DOT> <EOL> che la altro\n",
      "10657\n",
      "----- diversity: 1.0\n",
      "seed:\n",
      "<EOL> passero solitario <COMMA> alla campagna <EOL> cantando vai finchè non more il giorno <SEMICOL> <EOL> ed erra l <APOSTR> armonia per questa valle <DOT> <EOL> primavera dintorno <EOL> brilla\n",
      "\n",
      "sampled:\n",
      "tempo a pena il la xiv in già o t <APOSTR> agevol su <EOL> questa volte il aria mi occhi <COMMA> <EOL> non folgorando <COMMA> e d <APOSTR> a istante e de <APOSTR> eclittica <COMMA> e fati <DOT> <EOL> di la d <APOSTR> come male e per lui ancor con di piagato a le cangiati <DOT> a che nel vostra è le nostri ogni ciel <DOT> <EOL> come le nulla e più che non col gli inonorata o d <APOSTR> nostre ingannato <COMMA> se tu che le ha m <APOSTR> piena il di del alle <DOT> <EOL> <EOL> la muto\n",
      "12033\n",
      "----- diversity: 1.2\n",
      "seed:\n",
      "ma trista <COMMA> e quale <EOL> degl <APOSTR> infelici è la sembianza <DOT> al capo <EOL> appressommi la destra <COMMA> e sospirando <COMMA> <EOL> vivi <COMMA> mi disse <COMMA> e\n",
      "\n",
      "sampled:\n",
      "chi molta <DOT> e misero prima ogni man <COMMA> nè oscuri a cielo il forze su <COMMA> questo tempo <EOL> occhio vostro mia bramo men del è i prima il è appo <DOT> <EOL> che quando ma maggior ciel è violento <EOL> e intesi ne la oltre <DOT> a molto <EOL> come questa voglia <DOT> al lui io <COMMA> o sventurato <COMMA> il la solingo e chè che i sciagura <EOL> de <APOSTR> umana ti mano e dove più del quello <EOL> d <APOSTR> ma e loco saper quello e amore e travagliosa <COMMA> ad facil mio il belve <DOT>\n"
     ]
    }
   ],
   "source": [
    "# sampling at different diversities (== temperatures)\n",
    "\n",
    "start_index = random.randint(0, len(list_words) - maxlen - 1)\n",
    "\n",
    "for diversity in [0.2, 0.5, 1.0, 1.2]:\n",
    "    sentence = generate_seed_sentence(list_words, maxlen)\n",
    "   \n",
    "    print(\"----- diversity:\", diversity)\n",
    "    print(\"seed:\")\n",
    "    print(' '.join(sentence))\n",
    "    print()\n",
    "    result = sample_words(words_set, sentence, diversity, maxlen, 100)\n",
    "    print(\"sampled:\")\n",
    "    print(' '.join(result))"
   ]
  },
  {
   "cell_type": "code",
   "execution_count": 37,
   "metadata": {},
   "outputs": [
    {
     "data": {
      "text/plain": [
       "'virginia'"
      ]
     },
     "execution_count": 37,
     "metadata": {},
     "output_type": "execute_result"
    }
   ],
   "source": [
    "list_words[5284]"
   ]
  },
  {
   "cell_type": "code",
   "execution_count": null,
   "metadata": {},
   "outputs": [],
   "source": []
  }
 ],
 "metadata": {
  "kernelspec": {
   "display_name": "Python 3",
   "language": "python",
   "name": "python3"
  },
  "language_info": {
   "codemirror_mode": {
    "name": "ipython",
    "version": 3
   },
   "file_extension": ".py",
   "mimetype": "text/x-python",
   "name": "python",
   "nbconvert_exporter": "python",
   "pygments_lexer": "ipython3",
   "version": "3.6.4"
  }
 },
 "nbformat": 4,
 "nbformat_minor": 2
}
