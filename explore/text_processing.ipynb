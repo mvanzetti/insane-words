{
 "cells": [
  {
   "cell_type": "code",
   "execution_count": 1,
   "metadata": {},
   "outputs": [],
   "source": [
    "test_str = (\"CANTI\\n\\n\"\n",
    "\t\"GIACOMO LEOPARDI\\n\\n\"\n",
    "\t\"  I.\\n\\n\\n\"\n",
    "\t\"  ALL'ITALIA.\\n\\n\\n\"\n",
    "\t\"  O patria mia, vedo le mura e gli archi\\n\"\n",
    "\t\"  E le colonne e i simulacri e l'erme\\n\"\n",
    "\t\"  Torri degli avi nostri,\\n\"\n",
    "\t\"  Ma la gloria non vedo,\\n\"\n",
    "\t\"  Non vedo il lauro e il ferro ond'eran carchi\\n\"\n",
    "\t\"  I nostri padri antichi. Or fatta inerme,\\n\"\n",
    "\t\"  Nuda la fronte e nudo il petto mostri.\\n\"\n",
    "\t\"  Oimè quante ferite,\\n\"\n",
    "\t\"  Che lividor, che sangue! oh qual ti veggio,\\n\"\n",
    "\t\"  Formosissima donna! Io chiedo al cielo\\n\"\n",
    "\t\"  E al mondo: dite dite;\\n\"\n",
    "\t\"  Chi la ridusse a tale? E questo è peggio,\\n\"\n",
    "\t\"  Che di catene ha carche ambe le braccia;\\n\"\n",
    "\t\"  Sì che sparte le chiome e senza velo\\n\"\n",
    "\t\"  Siede in terra negletta e sconsolata,\\n\"\n",
    "\t\"  Nascondendo la faccia\\n\"\n",
    "\t\"  Tra le ginocchia, e piange.\\n\"\n",
    "\t\"  Piangi, che ben hai donde, Italia mia,\\n\"\n",
    "\t\"  Le genti a vincer nata\\n\"\n",
    "\t\"  E nella fausta sorte e nella ria.\")\n",
    "\n",
    "test_str = test_str.lower()\n",
    "\n",
    "#matches = re.finditer(regex, test_str)\n",
    "\n",
    "#for matchNum, match in enumerate(matches):\n",
    "#    matchNum = matchNum + 1"
   ]
  },
  {
   "cell_type": "code",
   "execution_count": 4,
   "metadata": {},
   "outputs": [],
   "source": [
    "import re\n",
    "\n",
    "words_regex = r\"\\W+\"\n",
    "punctuation_regex = r\"[^\\w]\"\n",
    "\n",
    "punctuations = set(re.findall(punctuation_regex, test_str))\n",
    "words = set(re.sub(words_regex, \" \", test_str).split())\n",
    "\n",
    "words_set = words.union(punctuations)"
   ]
  },
  {
   "cell_type": "code",
   "execution_count": 15,
   "metadata": {},
   "outputs": [
    {
     "data": {
      "text/plain": [
       "True"
      ]
     },
     "execution_count": 15,
     "metadata": {},
     "output_type": "execute_result"
    }
   ],
   "source": [
    "'\\n' in words_set"
   ]
  },
  {
   "cell_type": "code",
   "execution_count": 6,
   "metadata": {},
   "outputs": [],
   "source": [
    "regex = r\"weights-improvement\"\n",
    "test_str = (\"/home/scientist/workspace/manuel/marcesio/insane-words/saves/weights-improvement-01-5.05.hdf5\")"
   ]
  },
  {
   "cell_type": "code",
   "execution_count": 13,
   "metadata": {},
   "outputs": [
    {
     "name": "stdout",
     "output_type": "stream",
     "text": [
      "/home/scientist/workspace/manuel/marcesio/insane-words/saves/weights-improvement-01-5.05.hdf5\n"
     ]
    }
   ],
   "source": [
    "if re.search(regex, test_str):\n",
    "    print(test_str)"
   ]
  },
  {
   "cell_type": "code",
   "execution_count": null,
   "metadata": {},
   "outputs": [],
   "source": []
  }
 ],
 "metadata": {
  "kernelspec": {
   "display_name": "Python 3",
   "language": "python",
   "name": "python3"
  },
  "language_info": {
   "codemirror_mode": {
    "name": "ipython",
    "version": 3
   },
   "file_extension": ".py",
   "mimetype": "text/x-python",
   "name": "python",
   "nbconvert_exporter": "python",
   "pygments_lexer": "ipython3",
   "version": "3.6.4"
  }
 },
 "nbformat": 4,
 "nbformat_minor": 2
}
