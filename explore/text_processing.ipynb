{
 "cells": [
  {
   "cell_type": "code",
   "execution_count": 73,
   "metadata": {},
   "outputs": [],
   "source": [
    "test_str = (\"CANTI\\n\\n\"\n",
    "\t\"GIACOMO LEOPARDI\\n\\n\"\n",
    "\t\"  I.\\n\\n\\n\"\n",
    "\t\"  ALL'ITALIA.\\n\\n\\n\"\n",
    "\t\"  O patria mia, vedo le mura e gli archi\\n\"\n",
    "\t\"  E le colonne e i simulacri e l'erme\\n\"\n",
    "\t\"  Torri degli avi nostri,\\n\"\n",
    "\t\"  Ma la gloria non vedo,\\n\"\n",
    "\t\"  Non vedo il lauro e il ferro ond'eran carchi\\n\"\n",
    "\t\"  I nostri padri antichi. Or fatta inerme,\\n\"\n",
    "\t\"  Nuda la fronte e nudo il petto mostri.\\n\"\n",
    "\t\"  Oimè quante ferite,\\n\"\n",
    "\t\"  Che lividor, che sangue! oh qual ti veggio,\\n\"\n",
    "\t\"  Formosissima donna! Io chiedo al cielo\\n\"\n",
    "\t\"  E al mondo: dite dite;\\n\"\n",
    "\t\"  Chi la ridusse a tale? E questo è peggio,\\n\"\n",
    "\t\"  Che di catene ha carche ambe le braccia;\\n\"\n",
    "\t\"  Sì che sparte le chiome e senza velo\\n\"\n",
    "\t\"  Siede in terra negletta e sconsolata,\\n\"\n",
    "\t\"  Nascondendo la faccia\\n\"\n",
    "\t\"  Tra le ginocchia, e piange.\\n\"\n",
    "\t\"  Piangi, che ben hai donde, Italia mia,\\n\"\n",
    "\t\"  Le genti a vincer nata\\n\"\n",
    "\t\"  E nella fausta sorte e nella ria.\")\n",
    "\n",
    "test_str = test_str.lower()\n",
    "\n",
    "#matches = re.finditer(regex, test_str)\n",
    "\n",
    "#for matchNum, match in enumerate(matches):\n",
    "#    matchNum = matchNum + 1"
   ]
  },
  {
   "cell_type": "code",
   "execution_count": 74,
   "metadata": {},
   "outputs": [],
   "source": [
    "import re\n",
    "\n",
    "words_regex = r\"\\W+\"\n",
    "punctuation_regex = r\"[^\\w]\""
   ]
  },
  {
   "cell_type": "code",
   "execution_count": 75,
   "metadata": {},
   "outputs": [],
   "source": [
    "punctuations = set(re.findall(punctuation_regex, test_str))\n",
    "words = set(re.sub(regex, \" \", test_str).split())"
   ]
  },
  {
   "cell_type": "code",
   "execution_count": 77,
   "metadata": {},
   "outputs": [
    {
     "ename": "TypeError",
     "evalue": "unhashable type: 'set'",
     "output_type": "error",
     "traceback": [
      "\u001b[0;31m---------------------------------------------------------------------------\u001b[0m",
      "\u001b[0;31mTypeError\u001b[0m                                 Traceback (most recent call last)",
      "\u001b[0;32m<ipython-input-77-bf31e0cb8f02>\u001b[0m in \u001b[0;36m<module>\u001b[0;34m()\u001b[0m\n\u001b[0;32m----> 1\u001b[0;31m \u001b[0mwords\u001b[0m\u001b[0;34m.\u001b[0m\u001b[0madd\u001b[0m\u001b[0;34m(\u001b[0m\u001b[0mpunctuations\u001b[0m\u001b[0;34m)\u001b[0m\u001b[0;34m\u001b[0m\u001b[0m\n\u001b[0m",
      "\u001b[0;31mTypeError\u001b[0m: unhashable type: 'set'"
     ]
    }
   ],
   "source": [
    "words.add(punctuations)"
   ]
  },
  {
   "cell_type": "code",
   "execution_count": null,
   "metadata": {},
   "outputs": [],
   "source": []
  }
 ],
 "metadata": {
  "kernelspec": {
   "display_name": "Python 3",
   "language": "python",
   "name": "python3"
  },
  "language_info": {
   "codemirror_mode": {
    "name": "ipython",
    "version": 3
   },
   "file_extension": ".py",
   "mimetype": "text/x-python",
   "name": "python",
   "nbconvert_exporter": "python",
   "pygments_lexer": "ipython3",
   "version": "3.6.4"
  }
 },
 "nbformat": 4,
 "nbformat_minor": 2
}
