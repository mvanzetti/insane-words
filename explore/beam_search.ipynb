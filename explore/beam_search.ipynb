{
 "cells": [
  {
   "cell_type": "markdown",
   "metadata": {},
   "source": [
    "# <b>Beam Sarch Exploration</b>"
   ]
  },
  {
   "cell_type": "markdown",
   "metadata": {},
   "source": [
    "### <b>Greedy Decoder</b>. Picks the word with <b>highest probability</b> from a vocabulary"
   ]
  },
  {
   "cell_type": "code",
   "execution_count": 10,
   "metadata": {},
   "outputs": [],
   "source": [
    "import numpy as np\n",
    "from numpy import array, argmax\n",
    "\n",
    "# greedy decoder\n",
    "def greedy_decoder(data):\n",
    "    # index for largest probability each row\n",
    "    return [argmax(s) for s in data]\n"
   ]
  },
  {
   "cell_type": "markdown",
   "metadata": {},
   "source": [
    "#### Example: assume \"data\" is the result of a prediction task that predicts the next 10 words given the previous word over a vocab of 5 words.\n",
    "\n",
    "I start from a prediciton that tolds me that word1 is probable at 0.1, word2 at 0.2, ..., word3 at 0.5\n",
    "\n",
    "The greedy decoder returns the vocabulary entries (indexes pointing to vocabulary) with highest probability for each word"
   ]
  },
  {
   "cell_type": "code",
   "execution_count": 93,
   "metadata": {},
   "outputs": [],
   "source": [
    "vocab = {0:'pippo', 1:'sandrino', 2:'pieroni', 3:'marzullo', 4:'catorcio'}"
   ]
  },
  {
   "cell_type": "code",
   "execution_count": 94,
   "metadata": {},
   "outputs": [],
   "source": [
    "#np.random.uniform(0, 1, 5)"
   ]
  },
  {
   "cell_type": "code",
   "execution_count": 95,
   "metadata": {},
   "outputs": [],
   "source": [
    "def random_data(sequence_size, vocab_size):\n",
    "    result = []\n",
    "    for i in range(0, sequence_size):\n",
    "        result.append(np.random.uniform(0, 1, vocab_size))\n",
    "    return array(result)"
   ]
  },
  {
   "cell_type": "code",
   "execution_count": 108,
   "metadata": {},
   "outputs": [
    {
     "name": "stdout",
     "output_type": "stream",
     "text": [
      "[[ 0.12652083  0.22813471  0.2987071   0.34933662  0.42458194]\n",
      " [ 0.42307503  0.62971268  0.47829648  0.41690849  0.55282322]\n",
      " [ 0.30335729  0.85727797  0.50610382  0.03081907  0.38423528]\n",
      " [ 0.76025498  0.26909101  0.82494793  0.00325186  0.69590617]\n",
      " [ 0.76407061  0.05971319  0.70694349  0.30355835  0.32372128]\n",
      " [ 0.62742345  0.00705829  0.64530333  0.07901538  0.15588304]\n",
      " [ 0.01080289  0.29544724  0.5133111   0.16263049  0.68947834]\n",
      " [ 0.32025736  0.90762189  0.588747    0.78900124  0.97637995]\n",
      " [ 0.90069263  0.5889007   0.07500405  0.14331263  0.05722853]\n",
      " [ 0.34206635  0.94817187  0.30743983  0.1173878   0.84562785]]\n"
     ]
    }
   ],
   "source": [
    "data = random_data(10,5)\n",
    "\n",
    "print(data)"
   ]
  },
  {
   "cell_type": "code",
   "execution_count": 121,
   "metadata": {},
   "outputs": [
    {
     "name": "stdout",
     "output_type": "stream",
     "text": [
      "[4, 3, 0, 3, 4, 0, 4, 1, 0, 3]\n"
     ]
    }
   ],
   "source": [
    "# decode sequence\n",
    "result = greedy_decoder(data)\n",
    "\n",
    "print(result)"
   ]
  },
  {
   "cell_type": "code",
   "execution_count": 122,
   "metadata": {},
   "outputs": [],
   "source": [
    "# decode highest probability word indexes to vocab words\n",
    "def decode_from_vocab(vocab, idx_array):\n",
    "    decoded = []\n",
    "    for idx in idx_array:\n",
    "        decoded.append(vocab[idx])\n",
    "    return decoded"
   ]
  },
  {
   "cell_type": "code",
   "execution_count": 123,
   "metadata": {},
   "outputs": [
    {
     "data": {
      "text/plain": [
       "['catorcio',\n",
       " 'marzullo',\n",
       " 'pippo',\n",
       " 'marzullo',\n",
       " 'catorcio',\n",
       " 'pippo',\n",
       " 'catorcio',\n",
       " 'sandrino',\n",
       " 'pippo',\n",
       " 'marzullo']"
      ]
     },
     "execution_count": 123,
     "metadata": {},
     "output_type": "execute_result"
    }
   ],
   "source": [
    "decode_from_vocab(vocab, result)"
   ]
  },
  {
   "cell_type": "markdown",
   "metadata": {},
   "source": [
    "### <b>Beam Search Decoder</b>. Expands all possible next steps and keeps the <b>k most likely</b> (where k controls the number of beams or parallel searches through the sequence of probabilities)\n",
    "\n",
    "\n",
    "*The local beam search algorithm keeps track of k states rather than just one. It begins with k randomly generated states. At each step, all the successors of all k states are generated. If any one is a goal, the algorithm halts. Otherwise, it selects the k best successors from the complete list and repeats.*\n",
    "\n",
    "Common beam width values are 1 for a greedy search and values of 5 or 10 for common benchmark problems in machine translation"
   ]
  },
  {
   "cell_type": "code",
   "execution_count": 137,
   "metadata": {},
   "outputs": [],
   "source": [
    "from math import log\n",
    "\n",
    "# beam search\n",
    "def beam_search_decoder(data, k):\n",
    "    sequences = [[list(), 1.0]]\n",
    "    # walk over each step in sequence\n",
    "    for row in data:\n",
    "        all_candidates = list()\n",
    "        # expand each current candidate\n",
    "        for i in range(len(sequences)):\n",
    "            seq, score = sequences[i]\n",
    "            print(\"seq:\", seq, \"score:\", score, \"\")\n",
    "            for j in range(len(row)):\n",
    "                candidate = [seq + [j], score * -log(row[j])]\n",
    "                all_candidates.append(candidate)\n",
    "        # order all candidates by score\n",
    "        ordered = sorted(all_candidates, key=lambda tup:tup[1])\n",
    "        # select k best\n",
    "        sequences = ordered[:k]\n",
    "    return sequences"
   ]
  },
  {
   "cell_type": "code",
   "execution_count": 138,
   "metadata": {},
   "outputs": [
    {
     "name": "stdout",
     "output_type": "stream",
     "text": [
      "[[ 0.36811372  0.64113261  0.36029716  0.93636979  0.30852459]\n",
      " [ 0.59053945  0.84450863  0.17295846  0.79029918  0.70441549]\n",
      " [ 0.68071501  0.25385581  0.60166938  0.4405493   0.41234752]\n",
      " [ 0.91528242  0.21527672  0.07338004  0.01712999  0.00831657]\n",
      " [ 0.74412121  0.1433341   0.70566187  0.18815439  0.01064368]\n",
      " [ 0.79480572  0.40043059  0.70812524  0.09571005  0.3651266 ]\n",
      " [ 0.21991803  0.1756754   0.75151163  0.71206413  0.61299718]\n",
      " [ 0.75346833  0.97923533  0.28098394  0.72734006  0.50163434]\n",
      " [ 0.3084521   0.82976847  0.89205979  0.8753751   0.11559779]\n",
      " [ 0.27017807  0.54588732  0.38265614  0.25468077  0.09792002]]\n"
     ]
    }
   ],
   "source": [
    "data = random_data(10,5)\n",
    "print(data)"
   ]
  },
  {
   "cell_type": "code",
   "execution_count": 139,
   "metadata": {},
   "outputs": [
    {
     "name": "stdout",
     "output_type": "stream",
     "text": [
      "[] 1.0\n",
      "[3] 0.06574480480467146\n",
      "[1] 0.4445189587972926\n",
      "[0] 0.9993633660013567\n",
      "[3, 1] 0.011110892945031363\n",
      "[3, 3] 0.015472625264490938\n",
      "[3, 4] 0.023036119013964466\n",
      "[3, 1, 0] 0.004273377657532197\n",
      "[3, 1, 2] 0.005644857915587794\n",
      "[3, 3, 0] 0.005950950246371683\n",
      "[3, 1, 0, 0] 0.000378290534883231\n",
      "[3, 1, 2, 0] 0.0004996975440407722\n",
      "[3, 3, 0, 0] 0.0005267936354268913\n",
      "[3, 1, 0, 0, 0] 0.00011180427698523896\n",
      "[3, 1, 0, 0, 2] 0.00013187930525892345\n",
      "[3, 1, 2, 0, 0] 0.00014768628202665266\n",
      "[3, 1, 0, 0, 0, 0] 2.5676698601425663e-05\n",
      "[3, 1, 0, 0, 2, 0] 3.028708081843646e-05\n",
      "[3, 1, 2, 0, 0, 0] 3.391727269668014e-05\n",
      "[3, 1, 0, 0, 0, 0, 2] 7.3350265460233015e-06\n",
      "[3, 1, 0, 0, 2, 0, 2] 8.652067980127696e-06\n",
      "[3, 1, 0, 0, 0, 0, 3] 8.71948081699294e-06\n",
      "[3, 1, 0, 0, 0, 0, 2, 1] 1.5391293566720985e-07\n",
      "[3, 1, 0, 0, 2, 0, 2, 1] 1.8154878841381771e-07\n",
      "[3, 1, 0, 0, 0, 0, 3, 1] 1.829633310277377e-07\n",
      "[3, 1, 0, 0, 0, 0, 2, 1, 2] 1.7580262108084776e-08\n",
      "[3, 1, 0, 0, 0, 0, 2, 1, 3] 2.0486241834258827e-08\n",
      "[3, 1, 0, 0, 2, 0, 2, 1, 2] 2.0736887850811786e-08\n",
      "[[3, 1, 0, 0, 0, 0, 2, 1, 2, 1], 1.0642083385894038e-08]\n",
      "['marzullo', 'sandrino', 'pippo', 'pippo', 'pippo', 'pippo', 'pieroni', 'sandrino', 'pieroni', 'sandrino']\n",
      "[[3, 1, 0, 0, 0, 0, 2, 1, 3, 1], 1.2401197008519707e-08]\n",
      "['marzullo', 'sandrino', 'pippo', 'pippo', 'pippo', 'pippo', 'pieroni', 'sandrino', 'marzullo', 'sandrino']\n",
      "[[3, 1, 0, 0, 2, 0, 2, 1, 2, 1], 1.2552923745703681e-08]\n",
      "['marzullo', 'sandrino', 'pippo', 'pippo', 'pieroni', 'pippo', 'pieroni', 'sandrino', 'pieroni', 'sandrino']\n"
     ]
    }
   ],
   "source": [
    "# decode sequence\n",
    "beam_result = beam_search_decoder(data, 3)\n",
    "# print result\n",
    "for seq in beam_result:\n",
    "    print(seq)\n",
    "    print(decode_from_vocab(vocab, seq[0]))"
   ]
  },
  {
   "cell_type": "code",
   "execution_count": null,
   "metadata": {},
   "outputs": [],
   "source": []
  }
 ],
 "metadata": {
  "kernelspec": {
   "display_name": "Python 3",
   "language": "python",
   "name": "python3"
  },
  "language_info": {
   "codemirror_mode": {
    "name": "ipython",
    "version": 3
   },
   "file_extension": ".py",
   "mimetype": "text/x-python",
   "name": "python",
   "nbconvert_exporter": "python",
   "pygments_lexer": "ipython3",
   "version": "3.6.2"
  }
 },
 "nbformat": 4,
 "nbformat_minor": 2
}
