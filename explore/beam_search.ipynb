{
 "cells": [
  {
   "cell_type": "markdown",
   "metadata": {},
   "source": [
    "# <b>Beam Sarch Exploration</b>"
   ]
  },
  {
   "cell_type": "markdown",
   "metadata": {},
   "source": [
    "### <b>Greedy Decoder</b>. Picks the word with <b>highest probability</b> from a vocabulary"
   ]
  },
  {
   "cell_type": "code",
   "execution_count": 3,
   "metadata": {},
   "outputs": [],
   "source": [
    "import numpy as np\n",
    "from numpy import array, argmax\n",
    "\n",
    "# greedy decoder\n",
    "def greedy_decoder(data):\n",
    "    # index for largest probability each row\n",
    "    return [argmax(s) for s in data]\n"
   ]
  },
  {
   "cell_type": "markdown",
   "metadata": {},
   "source": [
    "#### Example: assume \"data\" is the result of a prediction task that predicts the next 10 words given the previous word over a vocab of 5 words.\n",
    "\n",
    "I start from a prediciton that tolds me that word1 is probable at 0.1, word2 at 0.2, ..., word3 at 0.5\n",
    "\n",
    "The greedy decoder returns the vocabulary entries (indexes pointing to vocabulary) with highest probability for each word"
   ]
  },
  {
   "cell_type": "code",
   "execution_count": 4,
   "metadata": {},
   "outputs": [],
   "source": [
    "vocab = {0:'pippo', 1:'sandrino', 2:'pieroni', 3:'marzullo', 4:'catorcio'}"
   ]
  },
  {
   "cell_type": "code",
   "execution_count": 5,
   "metadata": {},
   "outputs": [],
   "source": [
    "#np.random.uniform(0, 1, 5)"
   ]
  },
  {
   "cell_type": "code",
   "execution_count": 6,
   "metadata": {},
   "outputs": [],
   "source": [
    "def random_data(sequence_size, vocab_size):\n",
    "    result = []\n",
    "    for i in range(0, sequence_size):\n",
    "        result.append(np.random.uniform(0, 1, vocab_size))\n",
    "    return array(result)"
   ]
  },
  {
   "cell_type": "code",
   "execution_count": 7,
   "metadata": {},
   "outputs": [
    {
     "name": "stdout",
     "output_type": "stream",
     "text": [
      "[[ 0.52457992  0.28552338  0.75380654  0.46466122  0.68603885]\n",
      " [ 0.73735901  0.61122364  0.86520015  0.42268385  0.68092913]\n",
      " [ 0.59109473  0.64146109  0.59287713  0.4934406   0.4659128 ]\n",
      " [ 0.05324533  0.21668017  0.36318025  0.71377578  0.13925981]\n",
      " [ 0.18826333  0.29045033  0.31112292  0.75633354  0.69905173]\n",
      " [ 0.45696941  0.916494    0.03803797  0.91780142  0.92194863]\n",
      " [ 0.36227624  0.91316214  0.14919399  0.93794889  0.88271121]\n",
      " [ 0.35747485  0.5084773   0.11020641  0.54787643  0.06448803]\n",
      " [ 0.60437343  0.94158365  0.06899962  0.85873245  0.01354531]\n",
      " [ 0.62594457  0.93824783  0.99628312  0.51376727  0.23904859]]\n"
     ]
    }
   ],
   "source": [
    "data = random_data(10,5)\n",
    "\n",
    "print(data)"
   ]
  },
  {
   "cell_type": "code",
   "execution_count": 8,
   "metadata": {},
   "outputs": [
    {
     "name": "stdout",
     "output_type": "stream",
     "text": [
      "[2, 2, 1, 3, 3, 4, 3, 3, 1, 2]\n"
     ]
    }
   ],
   "source": [
    "# decode sequence\n",
    "result = greedy_decoder(data)\n",
    "\n",
    "print(result)"
   ]
  },
  {
   "cell_type": "code",
   "execution_count": 9,
   "metadata": {},
   "outputs": [],
   "source": [
    "# decode highest probability word indexes to vocab words\n",
    "def decode_from_vocab(vocab, idx_array):\n",
    "    decoded = []\n",
    "    for idx in idx_array:\n",
    "        decoded.append(vocab[idx])\n",
    "    return decoded"
   ]
  },
  {
   "cell_type": "code",
   "execution_count": 10,
   "metadata": {},
   "outputs": [
    {
     "data": {
      "text/plain": [
       "['pieroni',\n",
       " 'pieroni',\n",
       " 'sandrino',\n",
       " 'marzullo',\n",
       " 'marzullo',\n",
       " 'catorcio',\n",
       " 'marzullo',\n",
       " 'marzullo',\n",
       " 'sandrino',\n",
       " 'pieroni']"
      ]
     },
     "execution_count": 10,
     "metadata": {},
     "output_type": "execute_result"
    }
   ],
   "source": [
    "decode_from_vocab(vocab, result)"
   ]
  },
  {
   "cell_type": "markdown",
   "metadata": {},
   "source": [
    "### <b>Beam Search Decoder</b>. Expands all possible next steps and keeps the <b>k most likely</b> (where k controls the number of beams or parallel searches through the sequence of probabilities)\n",
    "\n",
    "\n",
    "*The local beam search algorithm keeps track of k states rather than just one. It begins with k randomly generated states. At each step, all the successors of all k states are generated. If any one is a goal, the algorithm halts. Otherwise, it selects the k best successors from the complete list and repeats.*\n",
    "\n",
    "Common beam width values are 1 for a greedy search and values of 5 or 10 for common benchmark problems in machine translation"
   ]
  },
  {
   "cell_type": "code",
   "execution_count": 20,
   "metadata": {},
   "outputs": [],
   "source": [
    "from math import log\n",
    "\n",
    "# beam search\n",
    "def beam_search_decoder(data, k):\n",
    "    print(\"k = \", k)\n",
    "    sequences = [[list(), 1.0]]\n",
    "    # walk over each step in sequence\n",
    "    for row in data:\n",
    "        print(\"row\", row)\n",
    "        all_candidates = list()\n",
    "        # expand each current candidate\n",
    "        for i in range(len(sequences)):\n",
    "            seq, score = sequences[i]\n",
    "            print(\"seq:\", seq, \"seq score:\", score, \"\")\n",
    "            for j in range(len(row)):\n",
    "                candidate = [seq + [j], score * -log(row[j])]\n",
    "                all_candidates.append(candidate)\n",
    "        # order all candidates by score\n",
    "        ordered = sorted(all_candidates, key=lambda tup:tup[1])\n",
    "        # select k best\n",
    "        sequences = ordered[:k]\n",
    "        print(\"k candidates:\", sequences)\n",
    "    return sequences"
   ]
  },
  {
   "cell_type": "markdown",
   "metadata": {},
   "source": [
    "#### Example: assume \"data\" is the result of a prediction task that predicts the next 10 words given the previous word over a vocab of 5 words. Beam search performed on predicted data with k = 3\n"
   ]
  },
  {
   "cell_type": "code",
   "execution_count": 24,
   "metadata": {},
   "outputs": [
    {
     "name": "stdout",
     "output_type": "stream",
     "text": [
      "[[ 0.08398073  0.10248591  0.02625078  0.66080139  0.08036359]\n",
      " [ 0.95381613  0.20863821  0.9569603   0.79854756  0.12084853]\n",
      " [ 0.01291866  0.35305058  0.64047748  0.78512149  0.40451399]\n",
      " [ 0.10412229  0.86880292  0.13211371  0.32664095  0.5470383 ]\n",
      " [ 0.53654872  0.00516611  0.86217385  0.30588989  0.39414109]\n",
      " [ 0.46442831  0.96799058  0.98349889  0.0509769   0.11643417]\n",
      " [ 0.90624877  0.7578022   0.85447125  0.41805789  0.6897766 ]\n",
      " [ 0.66172551  0.5723441   0.59171137  0.16374587  0.19091871]\n",
      " [ 0.89254568  0.35856224  0.24766143  0.07932327  0.71868108]\n",
      " [ 0.80857581  0.86766567  0.1879227   0.11962485  0.30550122]]\n"
     ]
    }
   ],
   "source": [
    "data = random_data(10,5)\n",
    "print(data)"
   ]
  },
  {
   "cell_type": "code",
   "execution_count": 25,
   "metadata": {},
   "outputs": [
    {
     "name": "stdout",
     "output_type": "stream",
     "text": [
      "k =  3\n",
      "row [ 0.08398073  0.10248591  0.02625078  0.66080139  0.08036359]\n",
      "seq: [] seq score: 1.0 \n",
      "k candidates: [[[3], 0.41430195145959264], [[1], 2.2780299905206287], [[0], 2.4771678613483017]]\n",
      "row [ 0.95381613  0.20863821  0.9569603   0.79854756  0.12084853]\n",
      "seq: [3] seq score: 0.41430195145959264 \n",
      "seq: [1] seq score: 2.2780299905206287 \n",
      "seq: [0] seq score: 2.4771678613483017 \n",
      "k candidates: [[[3, 2], 0.018226541464463], [[3, 0], 0.01959000398735612], [[3, 3], 0.0932016799241813]]\n",
      "row [ 0.01291866  0.35305058  0.64047748  0.78512149  0.40451399]\n",
      "seq: [3, 2] seq score: 0.018226541464463 \n",
      "seq: [3, 0] seq score: 0.01959000398735612 \n",
      "seq: [3, 3] seq score: 0.0932016799241813 \n",
      "k candidates: [[[3, 2, 3], 0.004409306753330751], [[3, 0, 3], 0.004739151256295161], [[3, 2, 2], 0.008120677240923387]]\n",
      "row [ 0.10412229  0.86880292  0.13211371  0.32664095  0.5470383 ]\n",
      "seq: [3, 2, 3] seq score: 0.004409306753330751 \n",
      "seq: [3, 0, 3] seq score: 0.004739151256295161 \n",
      "seq: [3, 2, 2] seq score: 0.008120677240923387 \n",
      "k candidates: [[[3, 2, 3, 1], 0.0006201203381739551], [[3, 0, 3, 1], 0.0006665093276831564], [[3, 2, 2, 1], 0.0011420836422956864]]\n",
      "row [ 0.53654872  0.00516611  0.86217385  0.30588989  0.39414109]\n",
      "seq: [3, 2, 3, 1] seq score: 0.0006201203381739551 \n",
      "seq: [3, 0, 3, 1] seq score: 0.0006665093276831564 \n",
      "seq: [3, 2, 2, 1] seq score: 0.0011420836422956864 \n",
      "k candidates: [[[3, 2, 3, 1, 2], 9.196282193772166e-05], [[3, 0, 3, 1, 2], 9.884223246418112e-05], [[3, 2, 2, 1, 2], 0.00016936911784525308]]\n",
      "row [ 0.46442831  0.96799058  0.98349889  0.0509769   0.11643417]\n",
      "seq: [3, 2, 3, 1, 2] seq score: 9.196282193772166e-05 \n",
      "seq: [3, 0, 3, 1, 2] seq score: 9.884223246418112e-05 \n",
      "seq: [3, 2, 2, 1, 2] seq score: 0.00016936911784525308 \n",
      "k candidates: [[[3, 2, 3, 1, 2, 2], 1.5301480159252354e-06], [[3, 0, 3, 1, 2, 2], 1.6446129284409236e-06], [[3, 2, 2, 1, 2, 2], 2.818093379142145e-06]]\n",
      "row [ 0.90624877  0.7578022   0.85447125  0.41805789  0.6897766 ]\n",
      "seq: [3, 2, 3, 1, 2, 2] seq score: 1.5301480159252354e-06 \n",
      "seq: [3, 0, 3, 1, 2, 2] seq score: 1.6446129284409236e-06 \n",
      "seq: [3, 2, 2, 1, 2, 2] seq score: 2.818093379142145e-06 \n",
      "k candidates: [[[3, 2, 3, 1, 2, 2, 0], 1.5062995308452495e-07], [[3, 0, 3, 1, 2, 2, 0], 1.6189804232988906e-07], [[3, 2, 3, 1, 2, 2, 2], 2.4065008664012987e-07]]\n",
      "row [ 0.66172551  0.5723441   0.59171137  0.16374587  0.19091871]\n",
      "seq: [3, 2, 3, 1, 2, 2, 0] seq score: 1.5062995308452495e-07 \n",
      "seq: [3, 0, 3, 1, 2, 2, 0] seq score: 1.6189804232988906e-07 \n",
      "seq: [3, 2, 3, 1, 2, 2, 2] seq score: 2.4065008664012987e-07 \n",
      "k candidates: [[[3, 2, 3, 1, 2, 2, 0, 0], 6.219577852130791e-08], [[3, 0, 3, 1, 2, 2, 0, 0], 6.684842275780802e-08], [[3, 2, 3, 1, 2, 2, 0, 2], 7.904100585884874e-08]]\n",
      "row [ 0.89254568  0.35856224  0.24766143  0.07932327  0.71868108]\n",
      "seq: [3, 2, 3, 1, 2, 2, 0, 0] seq score: 6.219577852130791e-08 \n",
      "seq: [3, 0, 3, 1, 2, 2, 0, 0] seq score: 6.684842275780802e-08 \n",
      "seq: [3, 2, 3, 1, 2, 2, 0, 2] seq score: 7.904100585884874e-08 \n",
      "k candidates: [[[3, 2, 3, 1, 2, 2, 0, 0, 0], 7.070266144191804e-09], [[3, 0, 3, 1, 2, 2, 0, 0, 0], 7.59916752316604e-09], [[3, 2, 3, 1, 2, 2, 0, 2, 0], 8.985190972973007e-09]]\n",
      "row [ 0.80857581  0.86766567  0.1879227   0.11962485  0.30550122]\n",
      "seq: [3, 2, 3, 1, 2, 2, 0, 0, 0] seq score: 7.070266144191804e-09 \n",
      "seq: [3, 0, 3, 1, 2, 2, 0, 0, 0] seq score: 7.59916752316604e-09 \n",
      "seq: [3, 2, 3, 1, 2, 2, 0, 2, 0] seq score: 8.985190972973007e-09 \n",
      "k candidates: [[[3, 2, 3, 1, 2, 2, 0, 0, 0, 1], 1.0036158970253022e-09], [[3, 0, 3, 1, 2, 2, 0, 0, 0, 1], 1.0786928207325107e-09], [[3, 2, 3, 1, 2, 2, 0, 2, 0, 1], 1.2754372062347246e-09]]\n",
      "[[3, 2, 3, 1, 2, 2, 0, 0, 0, 1], 1.0036158970253022e-09]\n",
      "['marzullo', 'pieroni', 'marzullo', 'sandrino', 'pieroni', 'pieroni', 'pippo', 'pippo', 'pippo', 'sandrino']\n",
      "[[3, 0, 3, 1, 2, 2, 0, 0, 0, 1], 1.0786928207325107e-09]\n",
      "['marzullo', 'pippo', 'marzullo', 'sandrino', 'pieroni', 'pieroni', 'pippo', 'pippo', 'pippo', 'sandrino']\n",
      "[[3, 2, 3, 1, 2, 2, 0, 2, 0, 1], 1.2754372062347246e-09]\n",
      "['marzullo', 'pieroni', 'marzullo', 'sandrino', 'pieroni', 'pieroni', 'pippo', 'pieroni', 'pippo', 'sandrino']\n"
     ]
    }
   ],
   "source": [
    "# decode sequence\n",
    "beam_result = beam_search_decoder(data, 3)\n",
    "# print result\n",
    "for seq in beam_result:\n",
    "    print(seq)\n",
    "    print(decode_from_vocab(vocab, seq[0]))"
   ]
  },
  {
   "cell_type": "code",
   "execution_count": null,
   "metadata": {},
   "outputs": [],
   "source": []
  }
 ],
 "metadata": {
  "kernelspec": {
   "display_name": "Python 3",
   "language": "python",
   "name": "python3"
  },
  "language_info": {
   "codemirror_mode": {
    "name": "ipython",
    "version": 3
   },
   "file_extension": ".py",
   "mimetype": "text/x-python",
   "name": "python",
   "nbconvert_exporter": "python",
   "pygments_lexer": "ipython3",
   "version": "3.6.4"
  }
 },
 "nbformat": 4,
 "nbformat_minor": 2
}
