{
 "cells": [
  {
   "cell_type": "code",
   "execution_count": 16,
   "metadata": {},
   "outputs": [],
   "source": [
    "import codecs\n",
    "import re\n",
    "import pickle\n",
    "import os"
   ]
  },
  {
   "cell_type": "code",
   "execution_count": 17,
   "metadata": {},
   "outputs": [],
   "source": [
    "def build_vocabulary(processed, saves_folder, vocab_name):\n",
    "    \n",
    "    words_set = set(processed.split())\n",
    "    word_indices = dict((c, i) for i, c in enumerate(words_set))\n",
    "    indices_word = dict((i, c) for i, c in enumerate(words_set))\n",
    "    dict_len = len(words_set)\n",
    "    vocab_filename = os.path.join(saves_folder, vocab_name + \".pkl\")\n",
    "    vocab = {'words_set': words_set, 'word_indices': word_indices, 'indices_word': indices_word}\n",
    "    with open(vocab_filename, 'wb') as f:\n",
    "        pickle.dump(vocab, f)\n",
    "\n",
    "def load_vocabulary(saves_folder, vocab_name):\n",
    "    vocab_filename = os.path.join(saves_folder, vocab_name + \".pkl\")\n",
    "    with open(vocab_filename, 'rb') as f:\n",
    "        vocab = pickle.load(f)\n",
    "    \n",
    "    return vocab\n",
    "\n",
    "    #words_set = vocab.words_set\n",
    "    #word_indices = vocab.word_indices\n",
    "    #indices_word = vocab.indices_word"
   ]
  },
  {
   "cell_type": "code",
   "execution_count": 18,
   "metadata": {},
   "outputs": [],
   "source": [
    "input_file = \"../datasets/canti_leopardi.txt\"\n",
    "saves_folder = \"saves/\"\n",
    "encoding=None\n",
    "\n",
    "with codecs.open(input_file, \"r\", encoding=encoding) as f:\n",
    "    text = f.read()\n",
    "    \n",
    "processed = re.sub(\"\\n\", ' <EOL> ', text)\n",
    "processed = re.sub(\"[,]\", ' <COMMA> ', processed)\n",
    "processed = re.sub(\"[.]\", ' <DOT> ', processed)\n",
    "processed = re.sub(\"[']\", ' <APOSTR> ', processed)\n",
    "processed = re.sub(\"[!]\", ' <EXCLAM> ', processed)\n",
    "processed = re.sub(\"[?]\", ' <QUESTION> ', processed)\n",
    "processed = re.sub(\"[;]\", ' <SEMICOL> ', processed)"
   ]
  },
  {
   "cell_type": "code",
   "execution_count": 19,
   "metadata": {},
   "outputs": [],
   "source": [
    "build_vocabulary(processed, \"saves\", \"vocab_temp\")"
   ]
  },
  {
   "cell_type": "code",
   "execution_count": 20,
   "metadata": {},
   "outputs": [],
   "source": [
    "vocab = load_vocabulary(\"saves\", \"vocab_temp\")"
   ]
  },
  {
   "cell_type": "code",
   "execution_count": 24,
   "metadata": {},
   "outputs": [
    {
     "data": {
      "text/plain": [
       "True"
      ]
     },
     "execution_count": 24,
     "metadata": {},
     "output_type": "execute_result"
    }
   ],
   "source": [
    "os.path.exists(\"saves\")"
   ]
  },
  {
   "cell_type": "code",
   "execution_count": 25,
   "metadata": {},
   "outputs": [
    {
     "data": {
      "text/plain": [
       "'saves/weights'"
      ]
     },
     "execution_count": 25,
     "metadata": {},
     "output_type": "execute_result"
    }
   ],
   "source": [
    "os.path.join(\"saves\", \"weights\")"
   ]
  },
  {
   "cell_type": "code",
   "execution_count": null,
   "metadata": {},
   "outputs": [],
   "source": []
  }
 ],
 "metadata": {
  "kernelspec": {
   "display_name": "Python 3",
   "language": "python",
   "name": "python3"
  },
  "language_info": {
   "codemirror_mode": {
    "name": "ipython",
    "version": 3
   },
   "file_extension": ".py",
   "mimetype": "text/x-python",
   "name": "python",
   "nbconvert_exporter": "python",
   "pygments_lexer": "ipython3",
   "version": "3.6.4"
  }
 },
 "nbformat": 4,
 "nbformat_minor": 2
}
