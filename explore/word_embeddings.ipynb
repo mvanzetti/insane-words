{
 "cells": [
  {
   "cell_type": "code",
   "execution_count": 23,
   "metadata": {},
   "outputs": [],
   "source": [
    "import gensim\n",
    "from gensim import corpora"
   ]
  },
  {
   "cell_type": "code",
   "execution_count": 24,
   "metadata": {},
   "outputs": [],
   "source": [
    "documents = [\"Un uomo amava andare in bicicletta l'altra sera\",\n",
    "             \"Non credo che tu possa amare così come si ama in cielo\",\n",
    "             \"L'intelligenza dell'uomo muove dal pollice opponibile e dal linguaggio\",\n",
    "             \"Un sistema fisico sottoposto a stress reagisce o si rompe\",              \n",
    "             \"Non credo che gli umani potranno dominare la galassia nei prossimi mille anni\",\n",
    "             \"Correlazione non implica necessariamente causalità\",\n",
    "             \"Vi era una donna che soleva vestirsi elegantemente\",\n",
    "             \"Il Sole è una stella piuttosto piccola\",\n",
    "             \"Leggere stimola il pensiero\"]"
   ]
  },
  {
   "cell_type": "code",
   "execution_count": 25,
   "metadata": {},
   "outputs": [
    {
     "data": {
      "text/plain": [
       "(723, 4700)"
      ]
     },
     "execution_count": 25,
     "metadata": {},
     "output_type": "execute_result"
    }
   ],
   "source": [
    "# build vocabulary and train model\n",
    "model = gensim.models.Word2Vec(\n",
    "        documents,\n",
    "        size=150,\n",
    "        window=10,\n",
    "        min_count=2,\n",
    "        workers=10)\n",
    "model.train(documents, total_examples=len(documents), epochs=10)\n",
    " "
   ]
  },
  {
   "cell_type": "code",
   "execution_count": 26,
   "metadata": {},
   "outputs": [
    {
     "data": {
      "text/plain": [
       "<gensim.models.word2vec.Word2Vec at 0x7f4f6b8db160>"
      ]
     },
     "execution_count": 26,
     "metadata": {},
     "output_type": "execute_result"
    }
   ],
   "source": [
    "model"
   ]
  },
  {
   "cell_type": "code",
   "execution_count": 16,
   "metadata": {},
   "outputs": [],
   "source": [
    "import numpy as np\n",
    "from gensim.models import Word2Vec"
   ]
  },
  {
   "cell_type": "code",
   "execution_count": 18,
   "metadata": {},
   "outputs": [],
   "source": [
    "something = np.load('../embeddings/glove_WIKI.syn0.npy')"
   ]
  },
  {
   "cell_type": "code",
   "execution_count": 27,
   "metadata": {},
   "outputs": [],
   "source": [
    "model = np.load('../embeddings/glove_WIKI')"
   ]
  },
  {
   "cell_type": "code",
   "execution_count": 35,
   "metadata": {},
   "outputs": [
    {
     "name": "stdout",
     "output_type": "stream",
     "text": [
      "Vocab(count:10071, index:2979)\n"
     ]
    }
   ],
   "source": [
    "print(model.vocab['cane'])"
   ]
  },
  {
   "cell_type": "code",
   "execution_count": null,
   "metadata": {},
   "outputs": [],
   "source": [
    "model = Word2Vec.load('../embeddings/glove_WIKI', binary=False)"
   ]
  },
  {
   "cell_type": "code",
   "execution_count": 56,
   "metadata": {},
   "outputs": [
    {
     "name": "stdout",
     "output_type": "stream",
     "text": [
      "[('Questa', 'PRON'), ('è', 'VERB'), ('una', 'DET'), ('frase', 'NOUN'), ('sciocca', 'ADJ'), ('in', 'ADP'), ('un', 'DET'), ('mondo', 'NOUN'), ('che', 'PRON'), ('appartiene', 'VERB'), ('agli', 'DET'), ('stolti', 'NOUN'), ('.', 'PUNCT')]\n"
     ]
    }
   ],
   "source": [
    "import spacy\n",
    "nlp = spacy.load('it')\n",
    "doc = nlp(u\"Questa è una frase sciocca in un mondo che appartiene agli stolti.\")\n",
    "print([(w.text, w.pos_) for w in doc])"
   ]
  },
  {
   "cell_type": "code",
   "execution_count": 51,
   "metadata": {},
   "outputs": [
    {
     "name": "stdout",
     "output_type": "stream",
     "text": [
      "iracondo iracondo 1.0\n",
      "iracondo adirato 0.330187\n",
      "adirato iracondo 0.330187\n",
      "adirato adirato 1.0\n"
     ]
    }
   ],
   "source": [
    "tokens = nlp(u'iracondo adirato')\n",
    "\n",
    "for token1 in tokens:\n",
    "    for token2 in tokens:\n",
    "        print(token1.text, token2.text, token1.similarity(token2))"
   ]
  },
  {
   "cell_type": "code",
   "execution_count": 52,
   "metadata": {},
   "outputs": [],
   "source": [
    "from spacy import displacy"
   ]
  },
  {
   "cell_type": "code",
   "execution_count": 58,
   "metadata": {},
   "outputs": [
    {
     "name": "stderr",
     "output_type": "stream",
     "text": [
      "/home/F77925B/miniconda3/envs/manuel/lib/python3.6/runpy.py:193: UserWarning: [W006] No entities to visualize found in Doc object. If this is surprising to you, make sure the Doc was processed using a model that supports named entity recognition, and check the `doc.ents` property manually if necessary.\n",
      "  \"__main__\", mod_spec)\n"
     ]
    },
    {
     "name": "stdout",
     "output_type": "stream",
     "text": [
      "\n",
      "\u001b[93m    Serving on port 5050...\u001b[0m\n",
      "    Using the 'ent' visualizer\n",
      "\n"
     ]
    },
    {
     "name": "stderr",
     "output_type": "stream",
     "text": [
      "127.0.0.1 - - [18/May/2018 18:24:02] \"GET / HTTP/1.1\" 200 466\n",
      "127.0.0.1 - - [18/May/2018 18:24:02] \"GET /favicon.ico HTTP/1.1\" 200 466\n",
      "127.0.0.1 - - [18/May/2018 18:24:08] \"GET / HTTP/1.1\" 200 466\n",
      "127.0.0.1 - - [18/May/2018 18:24:08] \"GET /favicon.ico HTTP/1.1\" 200 466\n"
     ]
    },
    {
     "name": "stdout",
     "output_type": "stream",
     "text": [
      "\n",
      "    Shutting down server on port 5050.\n",
      "\n"
     ]
    }
   ],
   "source": [
    "displacy.serve(doc, style='dep',port=5050)"
   ]
  },
  {
   "cell_type": "code",
   "execution_count": null,
   "metadata": {},
   "outputs": [],
   "source": []
  }
 ],
 "metadata": {
  "kernelspec": {
   "display_name": "Python 3",
   "language": "python",
   "name": "python3"
  },
  "language_info": {
   "codemirror_mode": {
    "name": "ipython",
    "version": 3
   },
   "file_extension": ".py",
   "mimetype": "text/x-python",
   "name": "python",
   "nbconvert_exporter": "python",
   "pygments_lexer": "ipython3",
   "version": "3.6.2"
  }
 },
 "nbformat": 4,
 "nbformat_minor": 2
}
